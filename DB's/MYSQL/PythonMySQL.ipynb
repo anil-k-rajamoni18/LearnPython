{
 "cells": [
  {
   "cell_type": "markdown",
   "id": "3f09e3a0",
   "metadata": {},
   "source": [
    "### Introduction\n",
    "\n",
    "- Python can be used in database applications.\n",
    "\n",
    "- One of the most popular databases is MySQL.\n",
    "- Python needs a MySQL driver to access the MySQL database\n",
    "- Python MySQL Connector is a Python driver that helps to integrate Python and MySQL. \n",
    "- This Python MySQL library allows the conversion between Python and MySQL data types. \n",
    "- MySQL Connector API is implemented using pure Python and does not require any third-party library. \n",
    "\n",
    "\n",
    "```linux\n",
    "# install using pip in cmd \n",
    "\n",
    "pip install  mysql-connector-python \n",
    "```\n",
    "\n",
    "\n",
    "```python\n",
    "# Test in after installation.\n",
    "\n",
    "import mysql.connector\n",
    "\n",
    "```"
   ]
  },
  {
   "cell_type": "markdown",
   "id": "6ad93520",
   "metadata": {},
   "source": [
    "### Example\n",
    "\n",
    "```python\n",
    "\n",
    "import mysql.connector\n",
    "\n",
    "mydb = mysql.connector.connect(\n",
    "  host=\"localhost\",\n",
    "  user=\"yourusername\",\n",
    "  password=\"yourpassword\",\n",
    "  database = 'yourdatabase',\n",
    "  auth_plugin='mysql_native_password'\n",
    ")\n",
    "\n",
    "print(mydb) \n",
    "\n",
    "```"
   ]
  },
  {
   "cell_type": "markdown",
   "id": "229a4df2",
   "metadata": {},
   "source": [
    "### Create Database"
   ]
  },
  {
   "cell_type": "code",
   "execution_count": null,
   "id": "840a4145",
   "metadata": {},
   "outputs": [],
   "source": []
  },
  {
   "cell_type": "code",
   "execution_count": 30,
   "id": "77e873b1",
   "metadata": {},
   "outputs": [],
   "source": [
    "import mysql.connector as mysql\n",
    "\n",
    "# connection object creation\n",
    "mydb = mysql.connect(\n",
    "    host = \"localhost\",\n",
    "    user = \"mayUser\",\n",
    "    password = \"MayDB@18\",\n",
    "    auth_plugin='mysql_native_password'\n",
    ")\n",
    "\n",
    "\n",
    "# cursor object creation\n",
    "mycursor = mydb.cursor()\n",
    "\n",
    "mycursor.execute(\"CREATE DATABASE mydatabase\")\n",
    "\n",
    "# drop database \n",
    "# mycursor.execute(\"DROP DATABASE mydatabase\")"
   ]
  },
  {
   "cell_type": "code",
   "execution_count": null,
   "id": "f55b63ad",
   "metadata": {},
   "outputs": [],
   "source": []
  },
  {
   "cell_type": "markdown",
   "id": "706db6dd",
   "metadata": {},
   "source": [
    "### What's cursor?\n",
    "\n",
    "- It's a pointer , points to current table .\n",
    "- A cursor holds the rows (one or more) returned by a SQL statement in resultSet.\n",
    "\n",
    "- Cursor is a Temporary Memory or Temporary Work Station. \n",
    "- It is Allocated by Database Server at the Time of Performing DML(Data Manipulation Language) operations on the Table by the User. \n",
    "\n",
    "- With the help of cursor , we can peform all CREATE , SELECT , DELETE , UPDATE operations.\n",
    "- We can iterate on cursor returned object , for display all entries.\n",
    "\n",
    "There are 2 types of Cursors: Implicit Cursors, and Explicit Cursors.\n",
    "\n",
    "    - Implicit Cursors: \n",
    "    - Explicit Cursors: "
   ]
  },
  {
   "cell_type": "markdown",
   "id": "5aea50a0",
   "metadata": {},
   "source": [
    "### Show Databases\n",
    "\n"
   ]
  },
  {
   "cell_type": "code",
   "execution_count": 28,
   "id": "cb208b87",
   "metadata": {},
   "outputs": [
    {
     "name": "stdout",
     "output_type": "stream",
     "text": [
      "('carcompany',)\n",
      "('classicmodels',)\n",
      "('college',)\n",
      "('corona',)\n",
      "('demo',)\n",
      "('employees',)\n",
      "('food',)\n",
      "('information_schema',)\n",
      "('maypymysqldb',)\n",
      "('mysql',)\n",
      "('performance_schema',)\n",
      "('sqlpython',)\n",
      "('sys',)\n"
     ]
    }
   ],
   "source": [
    "import mysql.connector as mysql\n",
    "\n",
    "mydb = mysql.connect(\n",
    "    host = \"localhost\",\n",
    "    user = \"mayUser\",\n",
    "    password = \"MayDB@18\",\n",
    "    auth_plugin='mysql_native_password'\n",
    ")\n",
    "\n",
    "mycursor = mydb.cursor()\n",
    "\n",
    "mycursor.execute(\"SHOW DATABASES\")\n",
    "\n",
    "for x in mycursor:\n",
    "    print(x) "
   ]
  },
  {
   "cell_type": "code",
   "execution_count": null,
   "id": "a0289733",
   "metadata": {},
   "outputs": [],
   "source": []
  },
  {
   "cell_type": "markdown",
   "id": "66e961f2",
   "metadata": {},
   "source": [
    "### Create Table\n",
    "\n",
    "- To create a table in MySQL, use the \"CREATE TABLE\" statement.\n",
    "- NOTE:\n",
    "    define the name of the database when you create the connection"
   ]
  },
  {
   "cell_type": "code",
   "execution_count": 31,
   "id": "dbcbefe3",
   "metadata": {},
   "outputs": [
    {
     "name": "stdout",
     "output_type": "stream",
     "text": [
      "('customers',)\n"
     ]
    }
   ],
   "source": [
    "import mysql.connector as mysql\n",
    "\n",
    "mydb = mysql.connect(\n",
    "    host = \"localhost\",\n",
    "    user = \"mayUser\",\n",
    "    password = \"MayDB@18\",\n",
    "    database = \"MayPyDB\",\n",
    "    auth_plugin='mysql_native_password'\n",
    ")\n",
    "\n",
    "mycursor = mydb.cursor()\n",
    "\n",
    "mycursor.execute(\"CREATE TABLE customers (name VARCHAR(255), address VARCHAR(255))\")\n",
    "\n",
    "\n",
    "# list all tables\n",
    "mycursor.execute(\"SHOW TABLES\")\n",
    "\n",
    "# DROP TABLE \n",
    "# mycursor.execute(\"DROP TABLE MayPyDB\")\n",
    "\n",
    "for x in mycursor:\n",
    "    print(x)"
   ]
  },
  {
   "cell_type": "markdown",
   "id": "05ca2fae",
   "metadata": {},
   "source": [
    "### If the table already exists, use the ALTER TABLE keyword:\n"
   ]
  },
  {
   "cell_type": "code",
   "execution_count": null,
   "id": "6392917e",
   "metadata": {},
   "outputs": [],
   "source": [
    "import mysql.connector as mysql\n",
    "\n",
    "mydb = mysql.connect(\n",
    "    host = \"localhost\",\n",
    "    user = \"mayUser\",\n",
    "    password = \"MayDB@18\",\n",
    "    database = \"MayPyDB\",\n",
    "    auth_plugin='mysql_native_password'\n",
    ")\n",
    "\n",
    "mycursor = mydb.cursor()\n",
    "\n",
    "mycursor.execute(\"ALTER TABLE customers ADD COLUMN id INT AUTO_INCREMENT PRIMARY KEY\") \n",
    "\n"
   ]
  },
  {
   "cell_type": "code",
   "execution_count": null,
   "id": "f667dae5",
   "metadata": {},
   "outputs": [],
   "source": []
  },
  {
   "cell_type": "markdown",
   "id": "27880fd6",
   "metadata": {},
   "source": [
    "### Insertion"
   ]
  },
  {
   "cell_type": "code",
   "execution_count": 71,
   "id": "802fbdf6",
   "metadata": {},
   "outputs": [
    {
     "name": "stdout",
     "output_type": "stream",
     "text": [
      "1 record inserted.\n"
     ]
    }
   ],
   "source": [
    "import mysql.connector as mysql\n",
    "\n",
    "mydb = mysql.connect(\n",
    "    host = \"localhost\",\n",
    "    user = \"mayUser\",\n",
    "    password = \"MayDB@18\",\n",
    "    database = \"MayPyDB\",\n",
    "    auth_plugin='mysql_native_password'\n",
    ")\n",
    "\n",
    "\n",
    "mycursor = mydb.cursor()\n",
    "\n",
    "sql = \"INSERT INTO customers (name, address) VALUES (%s, %s)\"\n",
    "val = (\"Kumar Rajamoni\", \"Hyderbad B.Hills RoadNo. 5\")\n",
    "mycursor.execute(sql, val)\n",
    "\n",
    "mydb.commit() # by default auto_commit is false.\n",
    "\n",
    "print(mycursor.rowcount, \"record inserted.\")\n",
    "\n"
   ]
  },
  {
   "cell_type": "code",
   "execution_count": null,
   "id": "fdf4eb1e",
   "metadata": {},
   "outputs": [],
   "source": []
  },
  {
   "cell_type": "code",
   "execution_count": 33,
   "id": "896d1c68",
   "metadata": {},
   "outputs": [
    {
     "name": "stdout",
     "output_type": "stream",
     "text": [
      "13 was inserted.\n"
     ]
    }
   ],
   "source": [
    "import mysql.connector as mysql\n",
    "\n",
    "mydb = mysql.connect(\n",
    "    host = \"localhost\",\n",
    "    user = \"mayUser\",\n",
    "    password = \"MayDB@18\",\n",
    "    database = \"MayPyDB\",\n",
    "    auth_plugin='mysql_native_password'\n",
    ")\n",
    "\n",
    "mycursor = mydb.cursor()\n",
    "\n",
    "sql = \"INSERT INTO customers (name, address) VALUES (%s, %s)\"\n",
    "val = [\n",
    "  ('Peter', 'Lowstreet 4'),\n",
    "  ('Amy', 'Apple st 652'),\n",
    "  ('Hannah', 'Mountain 21'),\n",
    "  ('Michael', 'Valley 345'),\n",
    "  ('Sandy', 'Ocean blvd 2'),\n",
    "  ('Betty', 'Green Grass 1'),\n",
    "  ('Richard', 'Sky st 331'),\n",
    "  ('Susan', 'One way 98'),\n",
    "  ('Vicky', 'Yellow Garden 2'),\n",
    "  ('Ben', 'Park Lane 38'),\n",
    "  ('William', 'Central st 954'),\n",
    "  ('Chuck', 'Main Road 989'),\n",
    "  ('Viola', 'Sideway 1633')\n",
    "]\n",
    "\n",
    "mycursor.executemany(sql, val)\n",
    "\n",
    "mydb.commit()\n",
    "\n",
    "print(mycursor.rowcount, \"was inserted.\") "
   ]
  },
  {
   "cell_type": "code",
   "execution_count": null,
   "id": "07013f3b",
   "metadata": {},
   "outputs": [],
   "source": []
  },
  {
   "cell_type": "markdown",
   "id": "ff46ba2c",
   "metadata": {},
   "source": [
    "## Retrivel/ Read from Database"
   ]
  },
  {
   "cell_type": "code",
   "execution_count": 37,
   "id": "bf5b31fa",
   "metadata": {},
   "outputs": [
    {
     "name": "stdout",
     "output_type": "stream",
     "text": [
      "('John', 'Highway 21')\n"
     ]
    }
   ],
   "source": [
    "import mysql.connector as mysql\n",
    "\n",
    "\n",
    "mydb = mysql.connect(\n",
    "    host = \"localhost\",\n",
    "    user = \"mayUser\",\n",
    "    password = \"MayDB@18\",\n",
    "    database = \"MayPyDB\",\n",
    "    auth_plugin='mysql_native_password'\n",
    ")\n",
    "\n",
    "mycursor = mydb.cursor()\n",
    "mycursor = mydb.cursor()\n",
    "\n",
    "mycursor.execute(\"SELECT * FROM customers\")\n",
    "\n",
    "# mycursor.execute(\"SELECT name FROM customers\")\n",
    "\n",
    "myresult = mycursor.fetchall()\n",
    "\n",
    "for x in myresult:\n",
    "  print(x)\n",
    "\n",
    "\n",
    "\n",
    "# fectch only one record.\n",
    "\n",
    "# myresult = mycursor.fetchone()\n",
    "\n",
    "# print(myresult) "
   ]
  },
  {
   "cell_type": "code",
   "execution_count": null,
   "id": "bcc3af06",
   "metadata": {},
   "outputs": [],
   "source": []
  },
  {
   "cell_type": "markdown",
   "id": "573b83f3",
   "metadata": {},
   "source": [
    "## Filteration on Data"
   ]
  },
  {
   "cell_type": "code",
   "execution_count": 38,
   "id": "292584e7",
   "metadata": {},
   "outputs": [
    {
     "name": "stdout",
     "output_type": "stream",
     "text": [
      "('Ben', 'Park Lane 38')\n"
     ]
    }
   ],
   "source": [
    "import mysql.connector as mysql\n",
    "\n",
    "\n",
    "mydb = mysql.connect(\n",
    "    host = \"localhost\",\n",
    "    user = \"mayUser\",\n",
    "    password = \"MayDB@18\",\n",
    "    database = \"MayPyDB\",\n",
    "    auth_plugin='mysql_native_password'\n",
    ")\n",
    "\n",
    "\n",
    "mycursor = mydb.cursor()\n",
    "\n",
    "sql = \"SELECT * FROM customers WHERE address ='Park Lane 38'\"\n",
    "\n",
    "mycursor.execute(sql)\n",
    "\n",
    "myresult = mycursor.fetchall()\n",
    "\n",
    "for x in myresult:\n",
    "  print(x)"
   ]
  },
  {
   "cell_type": "code",
   "execution_count": 39,
   "id": "1aa2a268",
   "metadata": {},
   "outputs": [
    {
     "name": "stdout",
     "output_type": "stream",
     "text": [
      "('John', 'Highway 21')\n",
      "('Susan', 'One way 98')\n",
      "('Viola', 'Sideway 1633')\n"
     ]
    }
   ],
   "source": [
    "# with wildcard characters\n",
    "\n",
    "sql = \"SELECT * FROM customers WHERE address LIKE '%way%'\"\n",
    "\n",
    "mycursor.execute(sql)\n",
    "\n",
    "myresult = mycursor.fetchall()\n",
    "\n",
    "for x in myresult:\n",
    "  print(x) "
   ]
  },
  {
   "cell_type": "code",
   "execution_count": 40,
   "id": "63b706e8",
   "metadata": {},
   "outputs": [
    {
     "name": "stdout",
     "output_type": "stream",
     "text": [
      "('Vicky', 'Yellow Garden 2')\n"
     ]
    }
   ],
   "source": [
    "\n",
    "# sql injection \n",
    "\n",
    "\n",
    "sql = \"SELECT * FROM customers WHERE address = %s\"\n",
    "adr = (\"Yellow Garden 2\", )\n",
    "\n",
    "mycursor.execute(sql, adr)\n",
    "\n",
    "myresult = mycursor.fetchall()\n",
    "\n",
    "for x in myresult:\n",
    "  print(x) "
   ]
  },
  {
   "cell_type": "markdown",
   "id": "cf66107f",
   "metadata": {},
   "source": [
    "#### Order By"
   ]
  },
  {
   "cell_type": "code",
   "execution_count": 41,
   "id": "7c760693",
   "metadata": {},
   "outputs": [
    {
     "name": "stdout",
     "output_type": "stream",
     "text": [
      "('Amy', 'Apple st 652')\n",
      "('Ben', 'Park Lane 38')\n",
      "('Betty', 'Green Grass 1')\n",
      "('Chuck', 'Main Road 989')\n",
      "('Hannah', 'Mountain 21')\n",
      "('John', 'Highway 21')\n",
      "('Michael', 'Valley 345')\n",
      "('Peter', 'Lowstreet 4')\n",
      "('Richard', 'Sky st 331')\n",
      "('Sandy', 'Ocean blvd 2')\n",
      "('Susan', 'One way 98')\n",
      "('Vicky', 'Yellow Garden 2')\n",
      "('Viola', 'Sideway 1633')\n",
      "('William', 'Central st 954')\n"
     ]
    }
   ],
   "source": [
    "sql = \"SELECT * FROM customers ORDER BY name\"\n",
    "\n",
    "mycursor.execute(sql)\n",
    "\n",
    "myresult = mycursor.fetchall()\n",
    "\n",
    "for x in myresult:\n",
    "  print(x)"
   ]
  },
  {
   "cell_type": "code",
   "execution_count": 42,
   "id": "b7e5ee9c",
   "metadata": {},
   "outputs": [
    {
     "name": "stdout",
     "output_type": "stream",
     "text": [
      "('William', 'Central st 954')\n",
      "('Viola', 'Sideway 1633')\n",
      "('Vicky', 'Yellow Garden 2')\n",
      "('Susan', 'One way 98')\n",
      "('Sandy', 'Ocean blvd 2')\n",
      "('Richard', 'Sky st 331')\n",
      "('Peter', 'Lowstreet 4')\n",
      "('Michael', 'Valley 345')\n",
      "('John', 'Highway 21')\n",
      "('Hannah', 'Mountain 21')\n",
      "('Chuck', 'Main Road 989')\n",
      "('Betty', 'Green Grass 1')\n",
      "('Ben', 'Park Lane 38')\n",
      "('Amy', 'Apple st 652')\n"
     ]
    }
   ],
   "source": [
    "# order by desc\n",
    "\n",
    "sql = \"SELECT * FROM customers ORDER BY name DESC\"\n",
    "\n",
    "mycursor.execute(sql)\n",
    "\n",
    "myresult = mycursor.fetchall()\n",
    "\n",
    "for x in myresult:\n",
    "  print(x) "
   ]
  },
  {
   "cell_type": "code",
   "execution_count": null,
   "id": "b246ed08",
   "metadata": {},
   "outputs": [],
   "source": []
  },
  {
   "cell_type": "code",
   "execution_count": null,
   "id": "7b595cc6",
   "metadata": {},
   "outputs": [],
   "source": []
  },
  {
   "cell_type": "markdown",
   "id": "25aa7041",
   "metadata": {},
   "source": [
    "#### LIMIT "
   ]
  },
  {
   "cell_type": "code",
   "execution_count": 65,
   "id": "be1681ac",
   "metadata": {},
   "outputs": [
    {
     "name": "stdout",
     "output_type": "stream",
     "text": [
      "('John', 'Highway 21')\n",
      "('Peter', 'Lowstreet 4')\n",
      "('Amy', 'Apple st 652')\n",
      "('Michael', 'Canyon 123')\n",
      "('Sandy', 'Ocean blvd 2')\n"
     ]
    }
   ],
   "source": [
    "mycursor = mydb.cursor()\n",
    "\n",
    "mycursor.execute(\"SELECT * FROM customers LIMIT 5\")\n",
    "\n",
    "myresult = mycursor.fetchall()\n",
    "\n",
    "for x in myresult:\n",
    "  print(x) "
   ]
  },
  {
   "cell_type": "code",
   "execution_count": null,
   "id": "7433f925",
   "metadata": {},
   "outputs": [],
   "source": []
  },
  {
   "cell_type": "markdown",
   "id": "cb795f2f",
   "metadata": {},
   "source": [
    "#### OFFSET \n"
   ]
  },
  {
   "cell_type": "code",
   "execution_count": null,
   "id": "bad41cd3",
   "metadata": {},
   "outputs": [],
   "source": []
  },
  {
   "cell_type": "code",
   "execution_count": 66,
   "id": "13e25b37",
   "metadata": {},
   "outputs": [
    {
     "name": "stdout",
     "output_type": "stream",
     "text": [
      "('Amy', 'Apple st 652')\n",
      "('Michael', 'Canyon 123')\n",
      "('Sandy', 'Ocean blvd 2')\n",
      "('Betty', 'Green Grass 1')\n",
      "('Richard', 'Sky st 331')\n"
     ]
    }
   ],
   "source": [
    "mycursor = mydb.cursor()\n",
    "\n",
    "mycursor.execute(\"SELECT * FROM customers LIMIT 5 OFFSET 2\")\n",
    "\n",
    "myresult = mycursor.fetchall()\n",
    "\n",
    "for x in myresult:\n",
    "  print(x) "
   ]
  },
  {
   "cell_type": "code",
   "execution_count": null,
   "id": "0325150a",
   "metadata": {},
   "outputs": [],
   "source": []
  },
  {
   "cell_type": "markdown",
   "id": "bb750caa",
   "metadata": {},
   "source": [
    "## Deletion "
   ]
  },
  {
   "cell_type": "code",
   "execution_count": 43,
   "id": "729530b8",
   "metadata": {},
   "outputs": [
    {
     "name": "stdout",
     "output_type": "stream",
     "text": [
      "1 record(s) deleted\n"
     ]
    }
   ],
   "source": [
    "import mysql.connector as mysql\n",
    "\n",
    "\n",
    "mydb = mysql.connect(\n",
    "    host = \"localhost\",\n",
    "    user = \"mayUser\",\n",
    "    password = \"MayDB@18\",\n",
    "    database = \"MayPyDB\",\n",
    "    auth_plugin='mysql_native_password'\n",
    ")\n",
    "\n",
    "mycursor = mydb.cursor()\n",
    "\n",
    "sql = \"DELETE FROM customers WHERE address = 'Mountain 21'\"\n",
    "\n",
    "mycursor.execute(sql)\n",
    "\n",
    "mydb.commit()\n",
    "\n",
    "print(mycursor.rowcount, \"record(s) deleted\")"
   ]
  },
  {
   "cell_type": "markdown",
   "id": "a1549283",
   "metadata": {},
   "source": [
    "#### NOTE: \n",
    "\n",
    "Notice the statement: mydb.commit(). It is required to make the changes, otherwise no changes are made to the table."
   ]
  },
  {
   "cell_type": "code",
   "execution_count": 45,
   "id": "218256de",
   "metadata": {},
   "outputs": [
    {
     "name": "stdout",
     "output_type": "stream",
     "text": [
      "0 record(s) deleted\n"
     ]
    }
   ],
   "source": [
    "mycursor = mydb.cursor()\n",
    "\n",
    "sql = \"DELETE FROM customers WHERE address = %s\"\n",
    "adr = (\"Yellow Garden 2\", )\n",
    "\n",
    "mycursor.execute(sql, adr)\n",
    "\n",
    "mydb.commit()\n",
    "\n",
    "print(mycursor.rowcount, \"record(s) deleted\") "
   ]
  },
  {
   "cell_type": "code",
   "execution_count": null,
   "id": "5cf3ea16",
   "metadata": {},
   "outputs": [],
   "source": []
  },
  {
   "cell_type": "code",
   "execution_count": null,
   "id": "b271806d",
   "metadata": {},
   "outputs": [],
   "source": []
  },
  {
   "cell_type": "markdown",
   "id": "4a789cc2",
   "metadata": {},
   "source": [
    "## Updation"
   ]
  },
  {
   "cell_type": "code",
   "execution_count": 67,
   "id": "aed4ead7",
   "metadata": {},
   "outputs": [
    {
     "name": "stdout",
     "output_type": "stream",
     "text": [
      "0 record(s) affected\n"
     ]
    }
   ],
   "source": [
    "import mysql.connector as mysql\n",
    "\n",
    "\n",
    "mydb = mysql.connect(\n",
    "    host = \"localhost\",\n",
    "    user = \"mayUser\",\n",
    "    password = \"MayDB@18\",\n",
    "    database = \"MayPyDB\",\n",
    "    auth_plugin='mysql_native_password'\n",
    ")\n",
    "\n",
    "mycursor = mydb.cursor()\n",
    "\n",
    "sql = \"UPDATE customers SET address = 'Canyon 123' WHERE address = 'Valley 345'\"\n",
    "\n",
    "mycursor.execute(sql)\n",
    "\n",
    "mydb.commit()\n",
    "\n",
    "print(mycursor.rowcount, \"record(s) affected\") "
   ]
  },
  {
   "cell_type": "code",
   "execution_count": 47,
   "id": "5f1befa2",
   "metadata": {},
   "outputs": [
    {
     "name": "stdout",
     "output_type": "stream",
     "text": [
      "1 record(s) affected\n"
     ]
    }
   ],
   "source": [
    "\n",
    "#SQL INJECTION EXAMPLE \n",
    "\n",
    "sql = \"UPDATE customers SET address = %s WHERE address = %s\"\n",
    "val = (\"Valley 345\", \"Canyon 123\")\n",
    "\n",
    "mycursor.execute(sql, val)\n",
    "\n",
    "mydb.commit()\n",
    "\n",
    "print(mycursor.rowcount, \"record(s) affected\") "
   ]
  },
  {
   "cell_type": "code",
   "execution_count": null,
   "id": "a20fc048",
   "metadata": {},
   "outputs": [],
   "source": []
  },
  {
   "cell_type": "code",
   "execution_count": null,
   "id": "2d47b4cb",
   "metadata": {},
   "outputs": [],
   "source": []
  },
  {
   "cell_type": "markdown",
   "id": "308b2966",
   "metadata": {},
   "source": [
    "## Join\n",
    "\n",
    ">> SQL Join statement is used to combine data or rows from two or more tables based on a common field between them. Different types of Joins are as follows: \n",
    "\n",
    "    INNER JOIN\n",
    "    LEFT JOIN\n",
    "    RIGHT JOIN\n",
    "    FULL JOIN\n",
    "    NATURAL JOIN \n",
    "\n",
    "- You can combine rows from two or more tables, based on a related column between them, by using a JOIN statement."
   ]
  },
  {
   "cell_type": "code",
   "execution_count": null,
   "id": "e23e369a",
   "metadata": {},
   "outputs": [],
   "source": []
  },
  {
   "cell_type": "code",
   "execution_count": null,
   "id": "d15fc876",
   "metadata": {},
   "outputs": [],
   "source": []
  },
  {
   "cell_type": "markdown",
   "id": "ac03416d",
   "metadata": {},
   "source": [
    "### Example"
   ]
  },
  {
   "cell_type": "code",
   "execution_count": 82,
   "id": "9d45b865",
   "metadata": {},
   "outputs": [],
   "source": [
    "import mysql.connector as mysql\n",
    "\n",
    "\n",
    "mydb = mysql.connect(\n",
    "    host = \"localhost\",\n",
    "    user = \"mayUser\",\n",
    "    password = \"MayDB@18\",\n",
    "    auth_plugin='mysql_native_password'\n",
    ")\n",
    "\n",
    "mycursor = mydb.cursor()\n",
    "\n",
    "mycursor.execute(\"CREATE DATABASE IF NOT EXISTS SqlJoins\")\n",
    "\n",
    "\n",
    "\n",
    "mydb.close()\n",
    "\n",
    "\n"
   ]
  },
  {
   "cell_type": "code",
   "execution_count": 85,
   "id": "74ef6a03",
   "metadata": {},
   "outputs": [
    {
     "name": "stdout",
     "output_type": "stream",
     "text": [
      "TABLES CREATED..\n"
     ]
    }
   ],
   "source": [
    "import mysql.connector as mysql\n",
    "\n",
    "\n",
    "mydb = mysql.connect(\n",
    "    host = \"localhost\",\n",
    "    user = \"mayUser\",\n",
    "    password = \"MayDB@18\",\n",
    "    database = 'SqlJoins',\n",
    "    auth_plugin='mysql_native_password'\n",
    ")\n",
    "\n",
    "mycursor = mydb.cursor()\n",
    "\n",
    "mycursor.execute(\n",
    "                    ''' \n",
    "                    CREATE TABLE IF NOT EXISTS users(\n",
    "                                id INTEGER                PRIMARY KEY,\n",
    "                                name VARCHAR(20)          NOT NULL,\n",
    "                                fav                       INTEGER NOT NULL \n",
    "                                )\n",
    "                    '''\n",
    "                )\n",
    "\n",
    "\n",
    "\n",
    "\n",
    "mycursor.execute(\n",
    "                    '''\n",
    "                    CREATE TABLE IF NOT EXISTS products (\n",
    "                                id INTEGER               PRIMARY KEY,\n",
    "                                name VARCHAR(20)         NOT NULL\n",
    "                                ) \n",
    "                    '''\n",
    "                )\n",
    "\n",
    "\n",
    "print(\"TABLES CREATED..\")"
   ]
  },
  {
   "cell_type": "code",
   "execution_count": 87,
   "id": "572d0f7d",
   "metadata": {},
   "outputs": [
    {
     "name": "stdout",
     "output_type": "stream",
     "text": [
      "LOG: Data inserted to Users table .....\n",
      "LOG: Data inserted to Products table .....\n"
     ]
    }
   ],
   "source": [
    "import mysql.connector as mysql\n",
    "\n",
    "\n",
    "mydb = mysql.connect(\n",
    "    host = \"localhost\",\n",
    "    user = \"mayUser\",\n",
    "    password = \"MayDB@18\",\n",
    "    database = \"SqlJoins\",\n",
    "    auth_plugin='mysql_native_password'\n",
    ")\n",
    "\n",
    "mycursor = mydb.cursor()\n",
    "\n",
    "\n",
    "userSql = \"INSERT INTO users (id,name,fav) VALUES (%s, %s,%s)\"\n",
    "userdata = [\n",
    "    (1,'John',154),(2,'Peter','154'),(3,'Amy',155),(4,'samantha',156),(5,'Miller',152),(6,'Hannah',152)\n",
    "]\n",
    "\n",
    "mycursor.executemany(userSql,userdata)\n",
    "\n",
    "\n",
    "mydb.commit()\n",
    "print(\"LOG: Data inserted to Users table .....\")\n",
    "\n",
    "\n",
    "productSql =  \"INSERT INTO products (id,name) VALUES (%s, %s)\"\n",
    "productdata = [(152,'Death By Icecream'),\n",
    "                (154,'Chocolate Heaven'),\n",
    "                (155,'Tasty Lemons'),\n",
    "                (156,'Vanilla Dreams')] \n",
    "\n",
    "\n",
    "mycursor.executemany(productSql,productdata)\n",
    "\n",
    "mydb.commit()\n",
    "print(\"LOG: Data inserted to Products table .....\")"
   ]
  },
  {
   "cell_type": "code",
   "execution_count": null,
   "id": "1e55c84f",
   "metadata": {},
   "outputs": [],
   "source": []
  },
  {
   "cell_type": "markdown",
   "id": "56c92c64",
   "metadata": {},
   "source": [
    "### INNER-JOIN\n",
    "\n",
    "- The INNER JOIN keyword selects all rows from both the tables as long as the condition is satisfied. \n",
    "- This keyword will create the result-set by combining all rows from both the tables where the condition satisfies i.e value of the common field will be the same\n",
    "\n",
    "- We can also write JOIN instead of INNER JOIN. JOIN is same as INNER JOIN. \n",
    "\n",
    "\n",
    "\n",
    "![](https://blog.codinghorror.com/content/images/uploads/2007/10/6a0120a85dcdae970b012877702708970c-pi.png)\n",
    "\n",
    "```sql\n",
    "SELECT table1.column1,table1.column2,table2.column1,....\n",
    "FROM table1 \n",
    "INNER JOIN table2\n",
    "ON table1.matching_column = table2.matching_column;\n",
    "\n",
    "\n",
    "table1: First table.\n",
    "table2: Second table\n",
    "matching_column: Column common to both the tables.\n",
    "\n",
    "```"
   ]
  },
  {
   "cell_type": "code",
   "execution_count": null,
   "id": "7508bc34",
   "metadata": {},
   "outputs": [],
   "source": []
  },
  {
   "cell_type": "code",
   "execution_count": 88,
   "id": "340b7328",
   "metadata": {},
   "outputs": [
    {
     "name": "stdout",
     "output_type": "stream",
     "text": [
      "('John', 'Chocolate Heaven')\n",
      "('Peter', 'Chocolate Heaven')\n",
      "('Amy', 'Tasty Lemons')\n",
      "('samantha', 'Vanilla Dreams')\n",
      "('Miller', 'Death By Icecream')\n",
      "('Hannah', 'Death By Icecream')\n"
     ]
    }
   ],
   "source": [
    "import mysql.connector as mysql\n",
    "\n",
    "\n",
    "mydb = mysql.connect(\n",
    "    host = \"localhost\",\n",
    "    user = \"mayUser\",\n",
    "    password = \"MayDB@18\",\n",
    "    database = \"SqlJoins\",\n",
    "    auth_plugin='mysql_native_password'\n",
    ")\n",
    "\n",
    "\n",
    "mycursor = mydb.cursor()\n",
    "\n",
    "sql = \"SELECT \\\n",
    "  users.name AS user, \\\n",
    "  products.name AS favorite \\\n",
    "  FROM users \\\n",
    "  INNER JOIN products ON users.fav = products.id\"\n",
    "\n",
    "mycursor.execute(sql)\n",
    "\n",
    "myresult = mycursor.fetchall()\n",
    "\n",
    "for x in myresult:\n",
    "  print(x) "
   ]
  },
  {
   "cell_type": "code",
   "execution_count": null,
   "id": "aaa75174",
   "metadata": {},
   "outputs": [],
   "source": []
  },
  {
   "cell_type": "code",
   "execution_count": null,
   "id": "daa94087",
   "metadata": {},
   "outputs": [],
   "source": []
  },
  {
   "cell_type": "markdown",
   "id": "1c9f5bab",
   "metadata": {},
   "source": [
    "###  LEFT JOIN\n",
    "\n",
    "- This join returns all the rows of the table on the left side of the join and matches rows for the table on the right side of the join. \n",
    "\n",
    "- For the rows for which there is no matching row on the right side, the result-set will contain null. \n",
    "\n",
    "- LEFT JOIN is also known as LEFT OUTER JOIN\n",
    "\n",
    "\n",
    "```sql\n",
    "\n",
    "SELECT table1.column1,table1.column2,table2.column1,....\n",
    "FROM table1 \n",
    "LEFT JOIN table2\n",
    "ON table1.matching_column = table2.matching_column;\n",
    "\n",
    "\n",
    "```\n",
    "\n",
    "![](https://i.stack.imgur.com/VkAT5.png)"
   ]
  },
  {
   "cell_type": "code",
   "execution_count": 94,
   "id": "81be3794",
   "metadata": {},
   "outputs": [
    {
     "name": "stdout",
     "output_type": "stream",
     "text": [
      "('John', 'Chocolate Heaven')\n",
      "('Peter', 'Chocolate Heaven')\n",
      "('Amy', 'Tasty Lemons')\n",
      "('samantha', 'Vanilla Dreams')\n",
      "('Miller', 'Death By Icecream')\n",
      "('Hannah', 'Death By Icecream')\n",
      "('Brad', None)\n",
      "('Sumit', None)\n"
     ]
    }
   ],
   "source": [
    "import mysql.connector as mysql\n",
    "\n",
    "\n",
    "mydb = mysql.connect(\n",
    "    host = \"localhost\",\n",
    "    user = \"mayUser\",\n",
    "    password = \"MayDB@18\",\n",
    "    database = \"SqlJoins\",\n",
    "    auth_plugin='mysql_native_password'\n",
    ")\n",
    "\n",
    "\n",
    "mycursor = mydb.cursor()\n",
    "\n",
    "sql = \"SELECT \\\n",
    "  users.name AS user, \\\n",
    "  products.name AS favorite \\\n",
    "  FROM users \\\n",
    "  LEFT JOIN products ON users.fav = products.id\"\n",
    "\n",
    "mycursor.execute(sql)\n",
    "\n",
    "myresult = mycursor.fetchall()\n",
    "\n",
    "for x in myresult:\n",
    "  print(x)"
   ]
  },
  {
   "cell_type": "code",
   "execution_count": null,
   "id": "b3404b09",
   "metadata": {},
   "outputs": [],
   "source": []
  },
  {
   "cell_type": "markdown",
   "id": "b1c625cb",
   "metadata": {},
   "source": [
    "### RIGHT JOIN\n",
    "\n",
    "- RIGHT JOIN is similar to LEFT JOIN. This join returns all the rows of the table on the right side of the join and matching rows for the table on the left side of the join. \n",
    "\n",
    "- For the rows for which there is no matching row on the left side, the result-set will contain null.\n",
    "\n",
    "- RIGHT JOIN is also known as RIGHT OUTER JOIN. \n",
    "\n",
    "\n",
    "```sql\n",
    "SELECT table1.column1,table1.column2,table2.column1,....\n",
    "FROM table1 \n",
    "RIGHT JOIN table2\n",
    "ON table1.matching_column = table2.matching_column;\n",
    "\n",
    "\n",
    "\n",
    "```\n",
    "![](https://media.geeksforgeeks.org/wp-content/uploads/20220515095048/join.jpg)"
   ]
  },
  {
   "cell_type": "code",
   "execution_count": 97,
   "id": "f31200d6",
   "metadata": {},
   "outputs": [
    {
     "name": "stdout",
     "output_type": "stream",
     "text": [
      "('Hannah', 'Death By Icecream')\n",
      "('Miller', 'Death By Icecream')\n",
      "('Peter', 'Chocolate Heaven')\n",
      "('John', 'Chocolate Heaven')\n",
      "('Amy', 'Tasty Lemons')\n",
      "('samantha', 'Vanilla Dreams')\n",
      "(None, 'Biryani')\n"
     ]
    }
   ],
   "source": [
    "import mysql.connector as mysql\n",
    "\n",
    "\n",
    "mydb = mysql.connect(\n",
    "    host = \"localhost\",\n",
    "    user = \"mayUser\",\n",
    "    password = \"MayDB@18\",\n",
    "    database = \"SqlJoins\",\n",
    "    auth_plugin='mysql_native_password'\n",
    ")\n",
    "\n",
    "\n",
    "mycursor = mydb.cursor()\n",
    "\n",
    "sql = \"SELECT \\\n",
    "  users.name AS user, \\\n",
    "  products.name AS favorite \\\n",
    "  FROM users \\\n",
    "  RIGHT JOIN products ON users.fav = products.id\"\n",
    "\n",
    "mycursor.execute(sql)\n",
    "\n",
    "myresult = mycursor.fetchall()\n",
    "\n",
    "for x in myresult:\n",
    "  print(x)"
   ]
  },
  {
   "cell_type": "code",
   "execution_count": null,
   "id": "791c20b1",
   "metadata": {},
   "outputs": [],
   "source": []
  }
 ],
 "metadata": {
  "kernelspec": {
   "display_name": "Python 3 (ipykernel)",
   "language": "python",
   "name": "python3"
  },
  "language_info": {
   "codemirror_mode": {
    "name": "ipython",
    "version": 3
   },
   "file_extension": ".py",
   "mimetype": "text/x-python",
   "name": "python",
   "nbconvert_exporter": "python",
   "pygments_lexer": "ipython3",
   "version": "3.10.9"
  }
 },
 "nbformat": 4,
 "nbformat_minor": 5
}
