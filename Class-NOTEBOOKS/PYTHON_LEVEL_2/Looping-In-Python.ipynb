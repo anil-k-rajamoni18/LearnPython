{
 "cells": [
  {
   "cell_type": "markdown",
   "id": "d9eb6926",
   "metadata": {},
   "source": [
    "### Looping \n",
    "\n",
    "- Sometimes it may be neccessary to repeat the certain process until a certain condition is met.\n",
    "- It's a process of repeating a set of statments\n",
    "\n",
    "    In python , there are 2 loops"
   ]
  },
  {
   "cell_type": "markdown",
   "id": "7ad3e7a0",
   "metadata": {},
   "source": [
    "#### For loop\n",
    "\n",
    "- In Python, the for loop is used to iterate over a sequence such as a list, string, tuple, other iterable objects such as range.\n",
    "\n",
    "- With the help of for loop, \n",
    "       - we can iterate over each item present in the sequence and executes the same set of operations for each item. \n",
    "       \n",
    "- Using a for loops in Python we can automate and repeat tasks in an efficient manner.\n",
    "\n",
    ">syntax:\n",
    "\n",
    "```code\n",
    "for i in range/sequencee:\n",
    "    statement 1\n",
    "    statement 2\n",
    "    statement n\n",
    "    \n",
    " ```"
   ]
  },
  {
   "cell_type": "markdown",
   "id": "5b57d8e3",
   "metadata": {},
   "source": [
    "![img](https://pynative.com/wp-content/uploads/2021/06/for-loop-in-python.png)"
   ]
  },
  {
   "cell_type": "code",
   "execution_count": null,
   "id": "5f0a0787",
   "metadata": {},
   "outputs": [],
   "source": [
    "\n"
   ]
  },
  {
   "cell_type": "markdown",
   "id": "ac6471f5",
   "metadata": {},
   "source": [
    "![](https://pynative.com/wp-content/uploads/2021/06/for-loop-range.png)"
   ]
  },
  {
   "cell_type": "code",
   "execution_count": null,
   "id": "5e0ad9e9",
   "metadata": {},
   "outputs": [],
   "source": []
  },
  {
   "cell_type": "code",
   "execution_count": null,
   "id": "e4d646bc",
   "metadata": {},
   "outputs": [],
   "source": [
    "for i in range(1,10):\n",
    "    print(\"hello\")"
   ]
  },
  {
   "cell_type": "code",
   "execution_count": null,
   "id": "1f18faae",
   "metadata": {},
   "outputs": [],
   "source": [
    "# without loops\n",
    "\n",
    "print(\"Hello\")\n",
    "print(\"Hello\")\n",
    "print(\"Hello\")\n",
    "print(\"Hello\")\n",
    "print(\"Hello\")\n",
    "print(\"Hello\")\n",
    "print(\"Hello\")\n",
    "print(\"Hello\")\n",
    "print(\"Hello\")\n",
    "\n",
    "print(\"hello \"*10)\n"
   ]
  },
  {
   "cell_type": "code",
   "execution_count": null,
   "id": "ec56d7e7",
   "metadata": {},
   "outputs": [],
   "source": []
  },
  {
   "cell_type": "code",
   "execution_count": null,
   "id": "2904368c",
   "metadata": {},
   "outputs": [],
   "source": [
    "# with loops\n",
    "for i in range(1,10,1):#(start,stop,step) \n",
    "    print(i, end = ' ')"
   ]
  },
  {
   "cell_type": "code",
   "execution_count": null,
   "id": "4dcc5c48",
   "metadata": {},
   "outputs": [],
   "source": [
    "for i in range(1,11,1):\n",
    "    print(f'hello {i}')"
   ]
  },
  {
   "cell_type": "code",
   "execution_count": null,
   "id": "8983c9a4",
   "metadata": {},
   "outputs": [],
   "source": [
    "for i in range(9):\n",
    "    print(i**2)"
   ]
  },
  {
   "cell_type": "code",
   "execution_count": null,
   "id": "90f419f8",
   "metadata": {},
   "outputs": [],
   "source": []
  },
  {
   "cell_type": "code",
   "execution_count": null,
   "id": "2c1c6110",
   "metadata": {},
   "outputs": [],
   "source": [
    "for i in range(1,10,1):\n",
    "    print(i**2,end=\" \")"
   ]
  },
  {
   "cell_type": "code",
   "execution_count": null,
   "id": "0fb4bb2e",
   "metadata": {},
   "outputs": [],
   "source": []
  },
  {
   "cell_type": "code",
   "execution_count": null,
   "id": "e9544c1c",
   "metadata": {},
   "outputs": [],
   "source": []
  },
  {
   "cell_type": "code",
   "execution_count": null,
   "id": "622b8af3",
   "metadata": {},
   "outputs": [],
   "source": []
  },
  {
   "cell_type": "code",
   "execution_count": null,
   "id": "ece6701e",
   "metadata": {},
   "outputs": [],
   "source": [
    "for ak in range(0,10):\n",
    "    print(ak)\n",
    "\n",
    "print(f\"outside loop value is: {ak}\")"
   ]
  },
  {
   "cell_type": "code",
   "execution_count": null,
   "id": "2d0901b5",
   "metadata": {},
   "outputs": [],
   "source": []
  },
  {
   "cell_type": "code",
   "execution_count": null,
   "id": "54d33f98",
   "metadata": {},
   "outputs": [],
   "source": [
    "num = 9\n",
    "i = 1\n",
    "\n",
    "print(f'{num} * {i} = {num*i}')\n",
    "i+=1\n",
    "print(f'{num} * {i} = {num*i}')\n",
    "i+=1\n",
    "print(f'{num} * {i} = {num*i}')\n",
    "i+=1\n",
    "print(f'{num} * {i} = {num*i}')\n",
    "i+=1\n",
    "print(f'{num} * {i} = {num*i}')\n",
    "i+=1\n",
    "print(f'{num} * {i} = {num*i}')\n",
    "i+=1\n",
    "print(f'{num} * {i} = {num*i}')\n",
    "i+=1\n",
    "print(f'{num} * {i} = {num*i}')\n",
    "i+=1\n",
    "print(f'{num} * {i} = {num*i}')\n",
    "i+=1\n",
    "print(f'{num} * {i} = {num*i}')"
   ]
  },
  {
   "cell_type": "code",
   "execution_count": null,
   "id": "055219e7",
   "metadata": {},
   "outputs": [],
   "source": [
    "num = int(input('enter num: '))\n",
    "\n",
    "for i in range(1,11):\n",
    "    print(f'{num} * {i} = {num*i}')"
   ]
  },
  {
   "cell_type": "code",
   "execution_count": null,
   "id": "e60714aa",
   "metadata": {},
   "outputs": [],
   "source": []
  },
  {
   "cell_type": "markdown",
   "id": "272205f3",
   "metadata": {},
   "source": [
    "#### print base FOR-LOOP\n",
    "    - Mainly used for printing & filtering purpose\n",
    "    - Don't have access to the index locations.\n",
    "    - Can be used on ALL-TYPES : List,Tuple , Set , Str , Dictionary"
   ]
  },
  {
   "cell_type": "markdown",
   "id": "078fa0cb",
   "metadata": {},
   "source": [
    "```code\n",
    "\n",
    "for var in sequence:\n",
    "    body\n",
    "    \n",
    "```"
   ]
  },
  {
   "cell_type": "code",
   "execution_count": null,
   "id": "c3a6fa65",
   "metadata": {},
   "outputs": [],
   "source": [
    "# list \n",
    "\n",
    "marks = [3,0,9,6,15,25]\n",
    "\n",
    "for mark in marks:\n",
    "    print(mark, end = ' ')"
   ]
  },
  {
   "cell_type": "code",
   "execution_count": null,
   "id": "671e07a6",
   "metadata": {},
   "outputs": [],
   "source": []
  },
  {
   "cell_type": "code",
   "execution_count": null,
   "id": "65957b1d",
   "metadata": {},
   "outputs": [],
   "source": [
    "# tuple\n",
    "prices = (55.2,90.2,67.2,51.2,10/3)\n",
    "\n",
    "for p in prices:\n",
    "    print(p)"
   ]
  },
  {
   "cell_type": "code",
   "execution_count": null,
   "id": "c22c85a7",
   "metadata": {},
   "outputs": [],
   "source": []
  },
  {
   "cell_type": "code",
   "execution_count": null,
   "id": "97081874",
   "metadata": {},
   "outputs": [],
   "source": [
    "# str\n",
    "name = \"Kumar R\"\n",
    "\n",
    "for ch in name:\n",
    "    print(ch)"
   ]
  },
  {
   "cell_type": "code",
   "execution_count": null,
   "id": "4ec66908",
   "metadata": {},
   "outputs": [],
   "source": []
  },
  {
   "cell_type": "code",
   "execution_count": null,
   "id": "42af2c12",
   "metadata": {},
   "outputs": [],
   "source": [
    "s = \"Python is OOps Language\"\n",
    "for ch in s:\n",
    "    if (ch.islower() == True):\n",
    "        print(ch , end=\" \")"
   ]
  },
  {
   "cell_type": "code",
   "execution_count": null,
   "id": "8350021d",
   "metadata": {},
   "outputs": [],
   "source": [
    "vowels = 'a e i o u'.split() #list\n",
    "\n",
    "sentence = 'python is oops language'\n",
    "\n",
    "# print all vowels \n",
    "# print count of all vowels \n",
    "\n",
    "output = []\n",
    "\n",
    "for ch in sentence:\n",
    "    if ch in vowels:\n",
    "        output.append(ch)\n",
    "\n",
    "print(output , len(output))"
   ]
  },
  {
   "cell_type": "code",
   "execution_count": null,
   "id": "acb86783",
   "metadata": {},
   "outputs": [],
   "source": [
    "vowels = 'a e i o u'.split() #list\n",
    "\n",
    "sentence = 'python is oops language'\n",
    "\n",
    "# print all vowels \n",
    "# print count of all vowels \n",
    "v_count = 0 \n",
    "\n",
    "for ch in sentence:\n",
    "    if ch in vowels:\n",
    "        print(ch,end=' ')\n",
    "        v_count = v_count+1\n",
    "\n",
    "print(v_count)"
   ]
  },
  {
   "cell_type": "code",
   "execution_count": null,
   "id": "43407d83",
   "metadata": {},
   "outputs": [],
   "source": [
    "s = \"Python is OOps Language\"\n",
    "for ch in s:\n",
    "    if (ch.islower()):\n",
    "        print(ch , end=\" \")"
   ]
  },
  {
   "cell_type": "code",
   "execution_count": null,
   "id": "c749f49c",
   "metadata": {},
   "outputs": [],
   "source": []
  },
  {
   "cell_type": "code",
   "execution_count": null,
   "id": "b527f222",
   "metadata": {},
   "outputs": [],
   "source": [
    "# set \n",
    "\n",
    "colors = {\"blue\",\"red\",\"yellow\",\"blue\",\"red\",\"orange\"}\n",
    "\n",
    "for c in colors:\n",
    "    print(c)"
   ]
  },
  {
   "cell_type": "code",
   "execution_count": null,
   "id": "a0391474",
   "metadata": {},
   "outputs": [],
   "source": []
  },
  {
   "cell_type": "code",
   "execution_count": null,
   "id": "7d6ef206",
   "metadata": {},
   "outputs": [],
   "source": [
    "# dict\n",
    "\n",
    "openai = {\n",
    "            \"engine\":\"GPT\",\n",
    "            \"version\" : \"3.0\",\n",
    "            \"model\": \"DALLE\"\n",
    "          }\n",
    "\n",
    "print(openai)\n"
   ]
  },
  {
   "cell_type": "code",
   "execution_count": null,
   "id": "ccc00e92",
   "metadata": {},
   "outputs": [],
   "source": [
    "print(dir(openai))"
   ]
  },
  {
   "cell_type": "code",
   "execution_count": null,
   "id": "6e68d2e8",
   "metadata": {},
   "outputs": [],
   "source": [
    "print(openai.keys())"
   ]
  },
  {
   "cell_type": "code",
   "execution_count": null,
   "id": "c7d6f7b8",
   "metadata": {},
   "outputs": [],
   "source": [
    "print(openai.values())"
   ]
  },
  {
   "cell_type": "code",
   "execution_count": null,
   "id": "683d5f30",
   "metadata": {},
   "outputs": [],
   "source": [
    "print(openai.items())\n"
   ]
  },
  {
   "cell_type": "code",
   "execution_count": null,
   "id": "3ea10a7e",
   "metadata": {},
   "outputs": [],
   "source": [
    "print(openai['model'])"
   ]
  },
  {
   "cell_type": "code",
   "execution_count": null,
   "id": "83377f5e",
   "metadata": {},
   "outputs": [],
   "source": [
    "print(openai.get(\"model\",\"key not found\"))"
   ]
  },
  {
   "cell_type": "code",
   "execution_count": null,
   "id": "c6d1932a",
   "metadata": {},
   "outputs": [],
   "source": []
  },
  {
   "cell_type": "code",
   "execution_count": null,
   "id": "353f4c7d",
   "metadata": {},
   "outputs": [],
   "source": [
    "print(openai)"
   ]
  },
  {
   "cell_type": "code",
   "execution_count": null,
   "id": "88d3b30c",
   "metadata": {},
   "outputs": [],
   "source": [
    "for s in openai:\n",
    "    print(s)"
   ]
  },
  {
   "cell_type": "code",
   "execution_count": null,
   "id": "7d80141a",
   "metadata": {},
   "outputs": [],
   "source": [
    "for k in openai:\n",
    "    print(k,openai[k])"
   ]
  },
  {
   "cell_type": "code",
   "execution_count": null,
   "id": "7fcc0b41",
   "metadata": {},
   "outputs": [],
   "source": [
    "for k in openai:\n",
    "    print(k , openai.get(k))"
   ]
  },
  {
   "cell_type": "code",
   "execution_count": null,
   "id": "633cdb79",
   "metadata": {},
   "outputs": [],
   "source": [
    "openai"
   ]
  },
  {
   "cell_type": "code",
   "execution_count": null,
   "id": "948125ea",
   "metadata": {},
   "outputs": [],
   "source": [
    "for key in openai.keys():\n",
    "    print(key)\n",
    "    \n",
    "print()\n",
    "\n",
    "for val in openai.values():\n",
    "    print(val)\n",
    "  \n",
    "print()\n",
    "\n",
    "    \n",
    "for item in openai.items(): #[() , () , ()]\n",
    "    print(item, type(item))\n",
    "    \n",
    "    \n",
    "print()\n",
    "\n",
    "\n",
    "for k,v in openai.items(): #tuple unpacking\n",
    "    print(k,v)"
   ]
  },
  {
   "cell_type": "code",
   "execution_count": null,
   "id": "955e6b4b",
   "metadata": {},
   "outputs": [],
   "source": [
    "k,v = ('engine' , 'GPT') #tuple unpacking\n",
    "\n",
    "print(k)\n",
    "print(v)"
   ]
  },
  {
   "cell_type": "code",
   "execution_count": null,
   "id": "9c882499",
   "metadata": {},
   "outputs": [],
   "source": []
  },
  {
   "cell_type": "code",
   "execution_count": null,
   "id": "64b3ac2c",
   "metadata": {},
   "outputs": [],
   "source": [
    "#dict \n",
    "#key = immutables \n",
    "#values =immu & mutable : both\n",
    "student = {\n",
    "    \"Name\": \"Ellie\",\n",
    "    \"Address\":\"USA\",\n",
    "    \"Salary\":4000,\n",
    "    \"Role\":\"SDE\"\n",
    "}\n",
    "\n",
    "\n",
    "for tmp in student: # print only the keys\n",
    "    print(tmp , student[tmp])"
   ]
  },
  {
   "cell_type": "code",
   "execution_count": null,
   "id": "a92d000a",
   "metadata": {},
   "outputs": [],
   "source": [
    "student.items()"
   ]
  },
  {
   "cell_type": "code",
   "execution_count": null,
   "id": "dadcda14",
   "metadata": {},
   "outputs": [],
   "source": [
    "for data in student.items():\n",
    "    print(data , type(data))"
   ]
  },
  {
   "cell_type": "code",
   "execution_count": null,
   "id": "4e1455b4",
   "metadata": {},
   "outputs": [],
   "source": [
    "for data in student.items(): #nested loops\n",
    "    for ele in data:\n",
    "        print(ele , end = ' ')\n",
    "    print()"
   ]
  },
  {
   "cell_type": "code",
   "execution_count": null,
   "id": "70031df4",
   "metadata": {},
   "outputs": [],
   "source": []
  },
  {
   "cell_type": "code",
   "execution_count": null,
   "id": "9006f51c",
   "metadata": {},
   "outputs": [],
   "source": [
    "for data in student.items():\n",
    "    print(data[0],data[1])"
   ]
  },
  {
   "cell_type": "code",
   "execution_count": null,
   "id": "1ef0e4af",
   "metadata": {},
   "outputs": [],
   "source": [
    "a=(10,20,30)\n",
    "print(a,type(a))"
   ]
  },
  {
   "cell_type": "code",
   "execution_count": null,
   "id": "e8f121bc",
   "metadata": {},
   "outputs": [],
   "source": [
    "b = 10,20\n",
    "print(b,type(b))"
   ]
  },
  {
   "cell_type": "code",
   "execution_count": null,
   "id": "42326105",
   "metadata": {},
   "outputs": [],
   "source": [
    "a,b = (10,20,30,40)\n",
    "print(a,b)"
   ]
  },
  {
   "cell_type": "code",
   "execution_count": null,
   "id": "0206468f",
   "metadata": {},
   "outputs": [],
   "source": []
  },
  {
   "cell_type": "code",
   "execution_count": null,
   "id": "6384bb3e",
   "metadata": {},
   "outputs": [],
   "source": [
    "for k,v in student.items(): #[(K1,v1),(K2,v2).....,(K2,v2)]\n",
    "    print(k,v)\n",
    "    "
   ]
  },
  {
   "cell_type": "code",
   "execution_count": null,
   "id": "cbd74417",
   "metadata": {},
   "outputs": [],
   "source": []
  },
  {
   "cell_type": "code",
   "execution_count": null,
   "id": "7358bbeb",
   "metadata": {},
   "outputs": [],
   "source": []
  },
  {
   "cell_type": "code",
   "execution_count": null,
   "id": "969f48fd",
   "metadata": {},
   "outputs": [],
   "source": [
    "a = [(\"sairam\",\"python\",1000),(\"Ak\",\"Java\",700),(\"Stu\",\"Ruby\",600)]\n",
    "\n",
    "for x in a:\n",
    "    print(x[0],x[1],x[2])"
   ]
  },
  {
   "cell_type": "code",
   "execution_count": null,
   "id": "9f090b3b",
   "metadata": {},
   "outputs": [],
   "source": []
  },
  {
   "cell_type": "code",
   "execution_count": null,
   "id": "301af930",
   "metadata": {},
   "outputs": [],
   "source": [
    "a=[(\"sairam\",\"python\",1000),(\"Ak\",\"Java\",20000),(\"Stu\",\"Ruby\",100)]\n",
    "\n",
    "for x,y,z in a:\n",
    "    print(x,y,z)\n",
    "    \n",
    "    \n",
    "# same no of elements in all tuples."
   ]
  },
  {
   "cell_type": "code",
   "execution_count": null,
   "id": "e2d6fb1c",
   "metadata": {},
   "outputs": [],
   "source": []
  },
  {
   "cell_type": "markdown",
   "id": "6c86b71c",
   "metadata": {},
   "source": [
    "### Examples \n",
    "\n",
    "- nested data \n",
    "\n"
   ]
  },
  {
   "cell_type": "code",
   "execution_count": null,
   "id": "e7ff0aad",
   "metadata": {},
   "outputs": [],
   "source": [
    "userdata = {\n",
    "\t\"page\": 2,\n",
    "\t\"per_page\": 6,\n",
    "\t\"total\": 12,\n",
    "\t\"total_pages\": 2,\n",
    "\t\"data\": [\n",
    "\t\t{\n",
    "\t\t\t\"id\": 7,\n",
    "\t\t\t\"email\": \"michael.lawson@reqres.in\",\n",
    "\t\t\t\"first_name\": \"Michael\",\n",
    "\t\t\t\"last_name\": \"Lawson\",\n",
    "\t\t\t\"avatar\": \"https://reqres.in/img/faces/7-image.jpg\"\n",
    "\t\t},\n",
    "\t\t{\n",
    "\t\t\t\"id\": 8,\n",
    "\t\t\t\"email\": \"lindsay.ferguson@reqres.in\",\n",
    "\t\t\t\"first_name\": \"Lindsay\",\n",
    "\t\t\t\"last_name\": \"Ferguson\",\n",
    "\t\t\t\"avatar\": \"https://reqres.in/img/faces/8-image.jpg\"\n",
    "\t\t},\n",
    "\t\t{\n",
    "\t\t\t\"id\": 9,\n",
    "\t\t\t\"email\": \"tobias.funke@reqres.in\",\n",
    "\t\t\t\"first_name\": \"Tobias\",\n",
    "\t\t\t\"last_name\": \"Funke\",\n",
    "\t\t\t\"avatar\": \"https://reqres.in/img/faces/9-image.jpg\"\n",
    "\t\t},\n",
    "\t\t{\n",
    "\t\t\t\"id\": 10,\n",
    "\t\t\t\"email\": \"byron.fields@reqres.in\",\n",
    "\t\t\t\"first_name\": \"Byron\",\n",
    "\t\t\t\"last_name\": \"Fields\",\n",
    "\t\t\t\"avatar\": \"https://reqres.in/img/faces/10-image.jpg\"\n",
    "\t\t},\n",
    "\t\t{\n",
    "\t\t\t\"id\": 11,\n",
    "\t\t\t\"email\": \"george.edwards@reqres.in\",\n",
    "\t\t\t\"first_name\": \"George\",\n",
    "\t\t\t\"last_name\": \"Edwards\",\n",
    "\t\t\t\"avatar\": \"https://reqres.in/img/faces/11-image.jpg\"\n",
    "\t\t},\n",
    "\t\t{\n",
    "\t\t\t\"id\": 12,\n",
    "\t\t\t\"email\": \"rachel.howell@reqres.in\",\n",
    "\t\t\t\"first_name\": \"Rachel\",\n",
    "\t\t\t\"last_name\": \"Howell\",\n",
    "\t\t\t\"avatar\": \"https://reqres.in/img/faces/12-image.jpg\"\n",
    "\t\t}\n",
    "\t],\n",
    "\t\"support\": {\n",
    "\t\t\"url\": \"https://reqres.in/#support-heading\",\n",
    "\t\t\"text\": \"To keep ReqRes free, contributions towards server costs are appreciated!\"\n",
    "\t}\n",
    "}"
   ]
  },
  {
   "cell_type": "code",
   "execution_count": null,
   "id": "5f00beeb",
   "metadata": {},
   "outputs": [],
   "source": [
    "print(userdata['data'])"
   ]
  },
  {
   "cell_type": "code",
   "execution_count": null,
   "id": "44ea5e80",
   "metadata": {},
   "outputs": [],
   "source": [
    "for user in userdata['data']: #[{},{} ,{},{}]\n",
    "    for k,v in user.items():\n",
    "        if k in ['first_name' , 'email']:\n",
    "            print(v)"
   ]
  },
  {
   "cell_type": "code",
   "execution_count": null,
   "id": "1dc07765",
   "metadata": {},
   "outputs": [],
   "source": []
  },
  {
   "cell_type": "code",
   "execution_count": null,
   "id": "ce648c72",
   "metadata": {},
   "outputs": [],
   "source": []
  },
  {
   "cell_type": "code",
   "execution_count": null,
   "id": "b6854943",
   "metadata": {},
   "outputs": [],
   "source": [
    "facts = [\n",
    "\t{\n",
    "\t\t\"status\": {\n",
    "\t\t\t\"verified\": True,\n",
    "\t\t\t\"sentCount\": 1\n",
    "\t\t},\n",
    "\t\t\"_id\": \"58e00b5f0aac31001185ed24\",\n",
    "\t\t\"user\": \"58e007480aac31001185ecef\",\n",
    "\t\t\"text\": \"When asked if her husband had any hobbies, Mary Todd Lincoln is said to have replied \\\"cats.\\\"\",\n",
    "\t\t\"__v\": 0,\n",
    "\t\t\"source\": \"user\",\n",
    "\t\t\"updatedAt\": \"2020-08-23T20:20:01.611Z\",\n",
    "\t\t\"type\": \"cat\",\n",
    "\t\t\"createdAt\": \"2018-02-19T21:20:03.434Z\",\n",
    "\t\t\"deleted\": False,\n",
    "\t\t\"used\": False\n",
    "\t},\n",
    "\t{\n",
    "\t\t\"status\": {\n",
    "\t\t\t\"verified\": True,\n",
    "\t\t\t\"feedback\": \"\",\n",
    "\t\t\t\"sentCount\": 1\n",
    "\t\t},\n",
    "\t\t\"_id\": \"5887e1d85c873e0011036889\",\n",
    "\t\t\"user\": \"5a9ac18c7478810ea6c06381\",\n",
    "\t\t\"text\": \"Cats make about 100 different sounds. Dogs make only about 10.\",\n",
    "\t\t\"__v\": 0,\n",
    "\t\t\"source\": \"user\",\n",
    "\t\t\"updatedAt\": \"2020-09-03T16:39:39.578Z\",\n",
    "\t\t\"type\": \"cat\",\n",
    "\t\t\"createdAt\": \"2018-01-15T21:20:00.003Z\",\n",
    "\t\t\"deleted\": False,\n",
    "\t\t\"used\": True\n",
    "\t},\n",
    "\t{\n",
    "\t\t\"status\": {\n",
    "\t\t\t\"verified\": True,\n",
    "\t\t\t\"sentCount\": 1\n",
    "\t\t},\n",
    "\t\t\"_id\": \"58e008780aac31001185ed05\",\n",
    "\t\t\"user\": \"58e007480aac31001185ecef\",\n",
    "\t\t\"text\": \"Owning a cat can reduce the risk of stroke and heart attack by a third.\",\n",
    "\t\t\"__v\": 0,\n",
    "\t\t\"source\": \"user\",\n",
    "\t\t\"updatedAt\": \"2020-08-23T20:20:01.611Z\",\n",
    "\t\t\"type\": \"cat\",\n",
    "\t\t\"createdAt\": \"2018-03-29T20:20:03.844Z\",\n",
    "\t\t\"deleted\": False,\n",
    "\t\t\"used\": False\n",
    "\t},\n",
    "\t{\n",
    "\t\t\"status\": {\n",
    "\t\t\t\"verified\": True,\n",
    "\t\t\t\"sentCount\": 1\n",
    "\t\t},\n",
    "\t\t\"_id\": \"58e009390aac31001185ed10\",\n",
    "\t\t\"user\": \"58e007480aac31001185ecef\",\n",
    "\t\t\"text\": \"Most cats are lactose intolerant, and milk can cause painful stomach cramps and diarrhea. It's best to forego the milk and just give your cat the standard: clean, cool drinking water.\",\n",
    "\t\t\"__v\": 0,\n",
    "\t\t\"source\": \"user\",\n",
    "\t\t\"updatedAt\": \"2020-08-23T20:20:01.611Z\",\n",
    "\t\t\"type\": \"cat\",\n",
    "\t\t\"createdAt\": \"2018-03-04T21:20:02.979Z\",\n",
    "\t\t\"deleted\": False,\n",
    "\t\t\"used\": False\n",
    "\t},\n",
    "\t{\n",
    "\t\t\"status\": {\n",
    "\t\t\t\"verified\": True,\n",
    "\t\t\t\"sentCount\": 1\n",
    "\t\t},\n",
    "\t\t\"_id\": \"58e00af60aac31001185ed1d\",\n",
    "\t\t\"user\": \"58e007480aac31001185ecef\",\n",
    "\t\t\"text\": \"It was illegal to slay cats in ancient Egypt, in large part because they provided the great service of controlling the rat population.\",\n",
    "\t\t\"__v\": 0,\n",
    "\t\t\"source\": \"user\",\n",
    "\t\t\"updatedAt\": \"2020-09-16T20:20:04.164Z\",\n",
    "\t\t\"type\": \"cat\",\n",
    "\t\t\"createdAt\": \"2018-01-15T21:20:02.945Z\",\n",
    "\t\t\"deleted\": False,\n",
    "\t\t\"used\": True\n",
    "\t}\n",
    "]"
   ]
  },
  {
   "cell_type": "code",
   "execution_count": null,
   "id": "267eb161",
   "metadata": {},
   "outputs": [],
   "source": [
    "for fact in facts:\n",
    "    print(fact.get('text'))"
   ]
  },
  {
   "cell_type": "code",
   "execution_count": null,
   "id": "62fedb13",
   "metadata": {},
   "outputs": [],
   "source": []
  },
  {
   "cell_type": "markdown",
   "id": "cbb68b06",
   "metadata": {},
   "source": []
  },
  {
   "cell_type": "markdown",
   "id": "5817303e",
   "metadata": {},
   "source": [
    "\n",
    "NEGATIVE MODULES \n",
    "===================\n",
    " \n",
    "-a%b ===> Add +b to -a until we reach either 0, or +ve number\n",
    "\n",
    "a%-b ===> Subtract -b to a until we reach 0,or -ve negative number.\n",
    "\n"
   ]
  },
  {
   "cell_type": "code",
   "execution_count": null,
   "id": "fead2108",
   "metadata": {},
   "outputs": [],
   "source": [
    "print(10%3)\n",
    "# print(10%0)\n",
    "print(10%100)\n",
    "print(5%5)"
   ]
  },
  {
   "cell_type": "code",
   "execution_count": null,
   "id": "0a368849",
   "metadata": {},
   "outputs": [],
   "source": [
    "print(-10%3)\n",
    "\n",
    "-10+3 = -7+3=>-4+3==>-1+3==>2"
   ]
  },
  {
   "cell_type": "code",
   "execution_count": null,
   "id": "c0a3022f",
   "metadata": {},
   "outputs": [],
   "source": [
    "print(10%-3)"
   ]
  },
  {
   "cell_type": "code",
   "execution_count": null,
   "id": "5c17570a",
   "metadata": {},
   "outputs": [],
   "source": [
    "10-3 ==> 7-3==>4-3==>1-3==>-2"
   ]
  },
  {
   "cell_type": "code",
   "execution_count": null,
   "id": "957713f6",
   "metadata": {},
   "outputs": [],
   "source": []
  },
  {
   "cell_type": "code",
   "execution_count": null,
   "id": "5c9acded",
   "metadata": {},
   "outputs": [],
   "source": [
    "print(txt.expandtabs(8))"
   ]
  },
  {
   "cell_type": "markdown",
   "id": "e46acdaf",
   "metadata": {},
   "source": [
    "### RANGE BASED for loop\n",
    "\n",
    "- we have control on index locations\n",
    "- maily used to change the data at locations\n",
    "- customized output\n",
    "- range(start,stop,step)\n",
    "- we can apply on list , tuple ,str"
   ]
  },
  {
   "cell_type": "code",
   "execution_count": null,
   "id": "76b3c566",
   "metadata": {},
   "outputs": [],
   "source": [
    "list_data = [\"Python\",\"Course\",\"Fee\",\"Dollars\",True,10.28989]\n",
    "\n",
    "print(list_data[3][-1])\n",
    "print(list_data[-3][-6])\n",
    "print(list_data[-2])"
   ]
  },
  {
   "cell_type": "code",
   "execution_count": null,
   "id": "bf789f91",
   "metadata": {},
   "outputs": [],
   "source": [
    "\n",
    "list_data = [\"Python\",\"Course\",\"Fee\",\"Dollars\",True,10.28989]\n",
    "\n",
    "n = len(list_data)\n",
    "\n",
    "print(f'length of list is {n}')\n",
    "\n",
    "for ind in range(0,n):\n",
    "    print(ind, list_data[ind])"
   ]
  },
  {
   "cell_type": "code",
   "execution_count": null,
   "id": "c949dfed",
   "metadata": {},
   "outputs": [],
   "source": [
    "for data in list_data:\n",
    "    print(data)"
   ]
  },
  {
   "cell_type": "code",
   "execution_count": null,
   "id": "4e9e02a9",
   "metadata": {},
   "outputs": [],
   "source": [
    "print(list_data)"
   ]
  },
  {
   "cell_type": "code",
   "execution_count": null,
   "id": "970a8a7c",
   "metadata": {},
   "outputs": [],
   "source": [
    "for ind in range(n):\n",
    "    if ind%2 == 0:\n",
    "        print(list_data[ind])\n",
    "        \n",
    "    "
   ]
  },
  {
   "cell_type": "code",
   "execution_count": null,
   "id": "b0bd6f70",
   "metadata": {},
   "outputs": [],
   "source": [
    "print(list_data)"
   ]
  },
  {
   "cell_type": "code",
   "execution_count": null,
   "id": "2a3e6201",
   "metadata": {},
   "outputs": [],
   "source": [
    "for ind in range(n):\n",
    "    if ind%2==0:\n",
    "        list_data[ind] = ind**ind"
   ]
  },
  {
   "cell_type": "code",
   "execution_count": null,
   "id": "7070afa4",
   "metadata": {},
   "outputs": [],
   "source": [
    "print(list_data)"
   ]
  },
  {
   "cell_type": "code",
   "execution_count": null,
   "id": "363538ad",
   "metadata": {},
   "outputs": [],
   "source": []
  },
  {
   "cell_type": "code",
   "execution_count": null,
   "id": "f5fe2f57",
   "metadata": {},
   "outputs": [],
   "source": [
    "#reverse using loop\n",
    "for index in range(-1 , -n-1 , -1):\n",
    "    print(list_data[index])"
   ]
  },
  {
   "cell_type": "code",
   "execution_count": null,
   "id": "35dbefdf",
   "metadata": {},
   "outputs": [],
   "source": [
    "print(list_data[::-1])"
   ]
  },
  {
   "cell_type": "code",
   "execution_count": null,
   "id": "bbe97943",
   "metadata": {},
   "outputs": [],
   "source": []
  },
  {
   "cell_type": "code",
   "execution_count": null,
   "id": "e27dba91",
   "metadata": {},
   "outputs": [],
   "source": []
  },
  {
   "cell_type": "code",
   "execution_count": null,
   "id": "ac0c9516",
   "metadata": {},
   "outputs": [],
   "source": [
    "comp = [\"Google\",\"Microsoft\",True , 1729 , 10e10 , 5+2j]\n",
    "\n",
    "for i in range(len(comp)):#0-5\n",
    "    if (i>2):\n",
    "        print(comp[i])\n",
    "    else:\n",
    "        print(f\"{i} is less than given condition\")\n",
    "\n"
   ]
  },
  {
   "cell_type": "code",
   "execution_count": null,
   "id": "22778425",
   "metadata": {},
   "outputs": [],
   "source": []
  },
  {
   "cell_type": "code",
   "execution_count": null,
   "id": "8de9ed8d",
   "metadata": {},
   "outputs": [],
   "source": [
    "comp = [\"Google\",\"Microsoft\",True , 1729 , 10e10 , 5+2j]\n",
    "\n",
    "loc = int(input(\"Enter the loc: \"))\n",
    "\n",
    "if loc>= len(comp):\n",
    "    print('invalid location no.')\n",
    "else:\n",
    "    inp_dt = input('enter the data to change: ')\n",
    "    for i in range(len(comp)):\n",
    "        if(i==loc):\n",
    "            comp[i] = inp_dt\n",
    "            \n",
    "    print(comp)"
   ]
  },
  {
   "cell_type": "code",
   "execution_count": null,
   "id": "71b515b7",
   "metadata": {},
   "outputs": [],
   "source": [
    "\n"
   ]
  },
  {
   "cell_type": "code",
   "execution_count": null,
   "id": "a775fd3f",
   "metadata": {},
   "outputs": [],
   "source": [
    "comp = [\"Google\",\"Microsoft\",True , 1729 , 2j ,10e10 , 5+2j]\n",
    "\n",
    "for i in range(len(comp)):\n",
    "    if (type(comp[i]) not in [complex , int , str]):\n",
    "        print(comp[i])"
   ]
  },
  {
   "cell_type": "code",
   "execution_count": null,
   "id": "98af47ed",
   "metadata": {},
   "outputs": [],
   "source": []
  },
  {
   "cell_type": "code",
   "execution_count": null,
   "id": "4c5bd8b0",
   "metadata": {},
   "outputs": [],
   "source": [
    "# TUPLE"
   ]
  },
  {
   "cell_type": "code",
   "execution_count": null,
   "id": "e13f7d40",
   "metadata": {},
   "outputs": [],
   "source": [
    "# tuple\n",
    "prices = (55.2,90.2,67.2,51.2,10/3)\n",
    "\n",
    "for ind in range(len(prices)):\n",
    "    print(prices[ind])\n",
    "    "
   ]
  },
  {
   "cell_type": "code",
   "execution_count": null,
   "id": "bad1e7c0",
   "metadata": {},
   "outputs": [],
   "source": [
    "prices = (55.2,90.2,67.2,51.2,10/3)\n",
    "\n",
    "for ind in range(len(prices)):\n",
    "    if ind % 2 == 1:\n",
    "        prices[ind] = ind**ind\n",
    "print(prices[ind])"
   ]
  },
  {
   "cell_type": "code",
   "execution_count": null,
   "id": "1f317266",
   "metadata": {},
   "outputs": [],
   "source": [
    "# STR"
   ]
  },
  {
   "cell_type": "code",
   "execution_count": null,
   "id": "96ed8b0f",
   "metadata": {},
   "outputs": [],
   "source": [
    "msg = \"Hey Hi\"\n",
    "\n",
    "for i in range(len(msg)):\n",
    "    print(msg[i])"
   ]
  },
  {
   "cell_type": "code",
   "execution_count": null,
   "id": "e200de7b",
   "metadata": {},
   "outputs": [],
   "source": [
    "msg = \"Hey Hi\"\n",
    "\n",
    "for i in range(len(msg)):\n",
    "    msg[i] = msg[i] + 'K'\n",
    "    \n",
    "print(msg)"
   ]
  },
  {
   "cell_type": "code",
   "execution_count": null,
   "id": "5e854f30",
   "metadata": {},
   "outputs": [],
   "source": [
    "lang = \"Python Is OOP's Languge\"\n",
    "\n",
    "n = len(lang)\n",
    "\n",
    "for ind in range(n):\n",
    "    print(lang[ind],end=\" \")"
   ]
  },
  {
   "cell_type": "code",
   "execution_count": null,
   "id": "f8646015",
   "metadata": {},
   "outputs": [],
   "source": [
    "s=\"Python Is OOP's Languge\"\n",
    "print(len(s))"
   ]
  },
  {
   "cell_type": "code",
   "execution_count": null,
   "id": "b2fd23b5",
   "metadata": {},
   "outputs": [],
   "source": [
    "for ind in range(len(s)):\n",
    "    if (s[ind]>='A' and s[ind]<='Z'):\n",
    "        print(s[ind] , end=\" \")"
   ]
  },
  {
   "cell_type": "code",
   "execution_count": null,
   "id": "3fe3f4ff",
   "metadata": {},
   "outputs": [],
   "source": [
    "print('a'>'A')"
   ]
  },
  {
   "cell_type": "code",
   "execution_count": null,
   "id": "b6ca5ae4",
   "metadata": {},
   "outputs": [],
   "source": [
    "print(chr(65),chr(97))"
   ]
  },
  {
   "cell_type": "code",
   "execution_count": null,
   "id": "3ae4de1e",
   "metadata": {},
   "outputs": [],
   "source": [
    "print(ord('a'),ord('z'))"
   ]
  },
  {
   "cell_type": "code",
   "execution_count": null,
   "id": "19e95c8c",
   "metadata": {},
   "outputs": [],
   "source": [
    "print(chr(91))"
   ]
  },
  {
   "cell_type": "code",
   "execution_count": null,
   "id": "5eb48049",
   "metadata": {},
   "outputs": [],
   "source": [
    "print(ord('A'),ord('Z'))"
   ]
  },
  {
   "cell_type": "code",
   "execution_count": null,
   "id": "5a8316cd",
   "metadata": {},
   "outputs": [],
   "source": [
    "for ch in s:\n",
    "    if (ord(ch)>=97 and ord(ch)<=122):\n",
    "        print(ch)"
   ]
  },
  {
   "cell_type": "code",
   "execution_count": null,
   "id": "2585eb44",
   "metadata": {},
   "outputs": [],
   "source": []
  },
  {
   "cell_type": "code",
   "execution_count": null,
   "id": "ec5ca368",
   "metadata": {},
   "outputs": [],
   "source": []
  },
  {
   "cell_type": "code",
   "execution_count": null,
   "id": "5d3089b4",
   "metadata": {},
   "outputs": [],
   "source": [
    "range(1,10)"
   ]
  },
  {
   "cell_type": "code",
   "execution_count": null,
   "id": "e0f5c52a",
   "metadata": {},
   "outputs": [],
   "source": [
    "# finite iteration -- for loop \n",
    "# infinite iteration -- while loop"
   ]
  },
  {
   "cell_type": "code",
   "execution_count": null,
   "id": "c59ec7ab",
   "metadata": {},
   "outputs": [],
   "source": []
  },
  {
   "cell_type": "markdown",
   "id": "464a9efa",
   "metadata": {},
   "source": [
    "### WHILE LOOP\n",
    "    \n",
    "    \n",
    "- With the while loop we can execute a set of statements as long as a condition is true.\n",
    "- We prefer the while when dont know the no of iterations in advance\n",
    "- In While loop , its mandatory to initialise the index variable and increment it during iterations\n",
    "\n",
    "\n",
    "```python\n",
    "initialze index variable;\n",
    "while (condition):\n",
    "    body\n",
    "    inc/dec\n",
    "      \n",
    "```"
   ]
  },
  {
   "cell_type": "code",
   "execution_count": null,
   "id": "5cbed812",
   "metadata": {},
   "outputs": [],
   "source": [
    "i = 0 #index variable\n",
    "n = 10 #stop\n",
    "\n",
    "while i<n: #true \n",
    "    print(i)\n",
    "    i+=2\n",
    "    \n",
    "print(\"outside loop\")"
   ]
  },
  {
   "cell_type": "code",
   "execution_count": null,
   "id": "a4d02682",
   "metadata": {},
   "outputs": [],
   "source": []
  },
  {
   "cell_type": "code",
   "execution_count": null,
   "id": "8a14cd94",
   "metadata": {},
   "outputs": [],
   "source": [
    "i = 0\n",
    "lst = [\"google\" , \"amazon\" , \"netflix\"]\n",
    "\n",
    "while i < len(lst):\n",
    "    print(lst[i])\n",
    "    i = i+1\n",
    "    "
   ]
  },
  {
   "cell_type": "code",
   "execution_count": null,
   "id": "7e8dcd52",
   "metadata": {},
   "outputs": [],
   "source": []
  },
  {
   "cell_type": "code",
   "execution_count": null,
   "id": "c45e13d3",
   "metadata": {},
   "outputs": [],
   "source": []
  },
  {
   "cell_type": "code",
   "execution_count": 10,
   "id": "e020be97",
   "metadata": {},
   "outputs": [
    {
     "name": "stdout",
     "output_type": "stream",
     "text": [
      "['Google', 'Microsoft', True, 1729, 100000000000.0, (5+2j)]\n",
      "6\n"
     ]
    }
   ],
   "source": [
    "comp = ['Google', 'Microsoft', True, 1729, 100000000000.0, (5+2j)]\n",
    "print(comp)\n",
    "print(len(comp))\n",
    "\n"
   ]
  },
  {
   "cell_type": "code",
   "execution_count": 11,
   "id": "1744ff36",
   "metadata": {},
   "outputs": [
    {
     "name": "stdout",
     "output_type": "stream",
     "text": [
      "Google Microsoft True 1729 100000000000.0 (5+2j) "
     ]
    }
   ],
   "source": [
    "# print base \n",
    "for data in comp:\n",
    "    print(data, end =\" \")"
   ]
  },
  {
   "cell_type": "code",
   "execution_count": 12,
   "id": "8f164e68",
   "metadata": {},
   "outputs": [
    {
     "name": "stdout",
     "output_type": "stream",
     "text": [
      "Google Microsoft True 1729 100000000000.0 (5+2j) "
     ]
    }
   ],
   "source": [
    "# range \n",
    "\n",
    "for i in range(0,len(comp)):\n",
    "    print(comp[i] , end=\" \")"
   ]
  },
  {
   "cell_type": "code",
   "execution_count": null,
   "id": "154965ad",
   "metadata": {},
   "outputs": [],
   "source": []
  },
  {
   "cell_type": "code",
   "execution_count": 13,
   "id": "da70dda9",
   "metadata": {},
   "outputs": [
    {
     "name": "stdout",
     "output_type": "stream",
     "text": [
      "6\n",
      "Google Microsoft True 1729 100000000000.0 (5+2j) "
     ]
    }
   ],
   "source": [
    "# while\n",
    "\n",
    "comp = ['Google', 'Microsoft', True, 1729, 100000000000.0, (5+2j)]\n",
    "\n",
    "i = 0\n",
    "n = len(comp)\n",
    "\n",
    "print(n)\n",
    "while i<n:\n",
    "    print(comp[i] , end=\" \")\n",
    "    i = i+1"
   ]
  },
  {
   "cell_type": "code",
   "execution_count": null,
   "id": "85fca08c",
   "metadata": {},
   "outputs": [],
   "source": [
    "i=10\n",
    "while i>0:\n",
    "    print(\"hello world\")\n",
    "    "
   ]
  },
  {
   "cell_type": "code",
   "execution_count": null,
   "id": "2b4844e0",
   "metadata": {},
   "outputs": [],
   "source": []
  },
  {
   "cell_type": "code",
   "execution_count": null,
   "id": "90c02b9e",
   "metadata": {},
   "outputs": [],
   "source": [
    "i=0 #index variable\n",
    "\n",
    "n=10 #stop\n",
    "\n",
    "#if the condition is True , it enters the loops , it will stop when the condition is FALSE\n",
    "while i<=n: #0 1 2 3 4 5 6 7 8 9  10\n",
    "    print(i ,end=\" \")\n",
    "    print(\"Kumar\")\n",
    "    i +=1\n",
    "    \n",
    "print(i)"
   ]
  },
  {
   "cell_type": "code",
   "execution_count": null,
   "id": "1982e65b",
   "metadata": {},
   "outputs": [],
   "source": []
  },
  {
   "cell_type": "code",
   "execution_count": null,
   "id": "83f162f1",
   "metadata": {},
   "outputs": [],
   "source": [
    "i=0 #index variable\n",
    "\n",
    "n=10 #stop\n",
    "\n",
    "#if the condition is True , it enters the loops\n",
    "while i<=n: #0 1 2 3 4 5 6 7 8 9 \n",
    "    print(i ,end=\" \")\n",
    "    i=i+2"
   ]
  },
  {
   "cell_type": "code",
   "execution_count": 14,
   "id": "e4947c5a",
   "metadata": {},
   "outputs": [
    {
     "name": "stdout",
     "output_type": "stream",
     "text": [
      "True\n",
      "True\n",
      "False\n"
     ]
    }
   ],
   "source": [
    "print(10==10)\n",
    "\n",
    "print(12!=0)\n",
    "\n",
    "print(0!=0)\n"
   ]
  },
  {
   "cell_type": "code",
   "execution_count": null,
   "id": "0b233aae",
   "metadata": {},
   "outputs": [],
   "source": [
    "print(bin(12))"
   ]
  },
  {
   "cell_type": "code",
   "execution_count": null,
   "id": "067ffb56",
   "metadata": {},
   "outputs": [],
   "source": []
  },
  {
   "cell_type": "code",
   "execution_count": null,
   "id": "6c44f695",
   "metadata": {},
   "outputs": [],
   "source": [
    "comp"
   ]
  },
  {
   "cell_type": "markdown",
   "id": "09e4a8a2",
   "metadata": {},
   "source": [
    "### Daily usecases"
   ]
  },
  {
   "cell_type": "code",
   "execution_count": 15,
   "id": "92c87ea0",
   "metadata": {},
   "outputs": [
    {
     "name": "stdout",
     "output_type": "stream",
     "text": [
      "0b1010\n"
     ]
    }
   ],
   "source": [
    "print(bin(10))"
   ]
  },
  {
   "cell_type": "markdown",
   "id": "2798e39b",
   "metadata": {},
   "source": [
    "\n",
    "#### decimal number to binary convertion"
   ]
  },
  {
   "cell_type": "code",
   "execution_count": 17,
   "id": "09b0fa3a",
   "metadata": {},
   "outputs": [
    {
     "name": "stdout",
     "output_type": "stream",
     "text": [
      "1 1 0 1 1 "
     ]
    }
   ],
   "source": [
    "\n",
    "\n",
    "# VALUES : 128 64 32 16 8 4 2 1\n",
    "# digits : \n",
    "\n",
    "n = 27\n",
    "\n",
    "while n != 0: #when flase comes out of the loop\n",
    "    print(n%2 , end=\" \")\n",
    "    n=n//2\n",
    "\n",
    "\n",
    "# modulus = 1 1 0 1 1 (binary of 27)\n",
    "# #n = 13 \n",
    "# n = 6\n",
    "# n =3\n",
    "# n= 1 \n",
    "# n=0"
   ]
  },
  {
   "cell_type": "code",
   "execution_count": 18,
   "id": "9dbe272b",
   "metadata": {},
   "outputs": [
    {
     "name": "stdout",
     "output_type": "stream",
     "text": [
      "0b11011\n"
     ]
    }
   ],
   "source": [
    "print(bin(27))"
   ]
  },
  {
   "cell_type": "markdown",
   "id": "7d7368ae",
   "metadata": {},
   "source": [
    "#### print in reverse order."
   ]
  },
  {
   "cell_type": "code",
   "execution_count": null,
   "id": "e27b9ae4",
   "metadata": {},
   "outputs": [],
   "source": []
  },
  {
   "cell_type": "code",
   "execution_count": null,
   "id": "6feec6f8",
   "metadata": {},
   "outputs": [],
   "source": [
    "comp = [\"amazon\" , \"netflix\" , \"uber\" , \"Google\"]\n",
    "start = -1\n",
    "\n",
    "n = -len(comp)\n",
    "\n",
    "print(start,n)\n",
    "\n",
    "while start>=n: #0 1 2 3 4 5 \n",
    "    print(comp[start])\n",
    "    start=start-1"
   ]
  },
  {
   "cell_type": "code",
   "execution_count": null,
   "id": "c96e4eff",
   "metadata": {},
   "outputs": [],
   "source": []
  },
  {
   "cell_type": "markdown",
   "id": "71b4d0da",
   "metadata": {},
   "source": [
    "#### copying"
   ]
  },
  {
   "cell_type": "code",
   "execution_count": null,
   "id": "47891408",
   "metadata": {},
   "outputs": [],
   "source": [
    "\n",
    "\n",
    "ind = 0\n",
    "\n",
    "n = len(comp)\n",
    "\n",
    "new_list = ['a','b','c','d','e','f']\n",
    "\n",
    "while ind < n: #0 1 2 3 4 5 \n",
    "    comp[ind]=new_list[ind]\n",
    "    ind+=1\n",
    "comp"
   ]
  },
  {
   "cell_type": "markdown",
   "id": "764acd93",
   "metadata": {},
   "source": [
    "##### rever of an array"
   ]
  },
  {
   "cell_type": "code",
   "execution_count": null,
   "id": "cadab352",
   "metadata": {},
   "outputs": [],
   "source": [
    "# rever of a array\n",
    "\n",
    "arr = [109,3,9,0,6]\n",
    "#output [6,0,9,3,109]\n",
    "\n",
    "ind = 0 \n",
    "backind = len(arr)-1\n",
    "\n",
    "n = len(arr)\n",
    "\n",
    "while ind<(n//2):\n",
    "    arr[ind] ,arr[backind]  = arr[backind] , arr[ind]\n",
    "    ind+=1\n",
    "    backind= backind-1\n",
    "    print(f\"{ind} iteration:  {arr}\")\n",
    "\n",
    "print(arr)"
   ]
  },
  {
   "cell_type": "code",
   "execution_count": null,
   "id": "0323f1d8",
   "metadata": {},
   "outputs": [],
   "source": []
  },
  {
   "cell_type": "code",
   "execution_count": null,
   "id": "aee3fad7",
   "metadata": {},
   "outputs": [],
   "source": [
    "num=int(input(\"enter any number : \")) \n",
    "\n",
    "c=0\n",
    "while num>0:\n",
    "    num = num//10 \n",
    "    c=c+1\n",
    "    \n",
    "print(f'length of number is {c}')"
   ]
  },
  {
   "cell_type": "code",
   "execution_count": null,
   "id": "80f3100e",
   "metadata": {},
   "outputs": [],
   "source": []
  },
  {
   "cell_type": "code",
   "execution_count": null,
   "id": "bac3c3c9",
   "metadata": {},
   "outputs": [],
   "source": []
  },
  {
   "cell_type": "markdown",
   "id": "62c30eb3",
   "metadata": {},
   "source": [
    "### Examples"
   ]
  },
  {
   "cell_type": "code",
   "execution_count": 19,
   "id": "c75e1661",
   "metadata": {},
   "outputs": [
    {
     "name": "stdout",
     "output_type": "stream",
     "text": [
      "0\n",
      "3\n",
      "6\n",
      "9\n"
     ]
    }
   ],
   "source": [
    "i = 0 \n",
    "while i<=10:\n",
    "    print(i)\n",
    "    i = i+3\n",
    "    "
   ]
  },
  {
   "cell_type": "code",
   "execution_count": 21,
   "id": "19393d2b",
   "metadata": {},
   "outputs": [],
   "source": [
    "names = ['shivani' , 'ravi' , 'lasya' , 'mahesh']\n",
    "\n",
    "i = 0\n",
    "while names:\n",
    "    print(names[i])\n",
    "    \n"
   ]
  },
  {
   "cell_type": "code",
   "execution_count": 25,
   "id": "6d6a1970",
   "metadata": {},
   "outputs": [
    {
     "name": "stdout",
     "output_type": "stream",
     "text": [
      "mahesh ['shivani', 'ravi', 'lasya']\n",
      "lasya ['shivani', 'ravi']\n",
      "ravi ['shivani']\n",
      "shivani []\n"
     ]
    }
   ],
   "source": [
    "while names:\n",
    "    print(names.pop() , names)"
   ]
  },
  {
   "cell_type": "code",
   "execution_count": 27,
   "id": "47e907ee",
   "metadata": {},
   "outputs": [
    {
     "name": "stdout",
     "output_type": "stream",
     "text": [
      "0\n",
      "2\n",
      "4\n",
      "6\n",
      "8\n",
      "10\n",
      "12\n",
      "14\n",
      "16\n",
      "18\n",
      "20\n",
      "22\n",
      "24\n",
      "26\n",
      "28\n",
      "30\n",
      "32\n",
      "34\n",
      "36\n",
      "38\n",
      "40\n",
      "42\n",
      "44\n",
      "46\n",
      "48\n",
      "50\n",
      "52\n",
      "54\n",
      "56\n",
      "58\n",
      "60\n",
      "62\n",
      "64\n",
      "66\n",
      "68\n",
      "70\n",
      "72\n",
      "74\n",
      "76\n",
      "78\n",
      "80\n",
      "82\n",
      "84\n",
      "86\n",
      "88\n",
      "90\n",
      "92\n",
      "94\n",
      "96\n",
      "98\n",
      "100\n"
     ]
    }
   ],
   "source": [
    "i = 0 \n",
    "n = 100\n",
    "\n",
    "while i <= 100:\n",
    "    if i % 2 == 0:\n",
    "        print(i)\n",
    "    i+=2\n"
   ]
  },
  {
   "cell_type": "code",
   "execution_count": null,
   "id": "59d5017d",
   "metadata": {},
   "outputs": [],
   "source": []
  },
  {
   "cell_type": "code",
   "execution_count": 34,
   "id": "e1aeba43",
   "metadata": {},
   "outputs": [
    {
     "name": "stdout",
     "output_type": "stream",
     "text": [
      "enter the number: 10000005\n",
      "10000005 is not prime\n"
     ]
    }
   ],
   "source": [
    "# prime number \n",
    "#  a number having two factors , one and itself .\n",
    "\n",
    "num = int(input('enter the number: '))\n",
    "\n",
    "div_count = 0 \n",
    "i = 1\n",
    "while i <= num: #O(n)\n",
    "    if num%i == 0:\n",
    "        div_count += 1 \n",
    "    i = i+1\n",
    "\n",
    "if div_count == 2:\n",
    "    print(f'{num} is a prime')\n",
    "else:\n",
    "    print(f'{num} is not prime')\n",
    "        "
   ]
  },
  {
   "cell_type": "code",
   "execution_count": null,
   "id": "0b3e719e",
   "metadata": {},
   "outputs": [],
   "source": []
  },
  {
   "cell_type": "code",
   "execution_count": null,
   "id": "44d097e0",
   "metadata": {},
   "outputs": [],
   "source": [
    "num = 7 \n",
    "\n",
    "7%1 == 0 \n",
    "7%2 == 0\n",
    "7%3 == 0 \n",
    "7%4 == 0\n",
    "7%5 == 0 \n",
    "7%6 == 0\n",
    "7%7 == 0 \n"
   ]
  },
  {
   "cell_type": "code",
   "execution_count": null,
   "id": "0cb7a341",
   "metadata": {},
   "outputs": [],
   "source": []
  }
 ],
 "metadata": {
  "kernelspec": {
   "display_name": "Python 3 (ipykernel)",
   "language": "python",
   "name": "python3"
  },
  "language_info": {
   "codemirror_mode": {
    "name": "ipython",
    "version": 3
   },
   "file_extension": ".py",
   "mimetype": "text/x-python",
   "name": "python",
   "nbconvert_exporter": "python",
   "pygments_lexer": "ipython3",
   "version": "3.10.9"
  }
 },
 "nbformat": 4,
 "nbformat_minor": 5
}
