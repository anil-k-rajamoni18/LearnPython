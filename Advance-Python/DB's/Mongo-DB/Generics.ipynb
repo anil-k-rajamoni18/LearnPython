{
 "cells": [
  {
   "cell_type": "markdown",
   "id": "309904d5",
   "metadata": {},
   "source": [
    "### Introductions\n",
    "\n",
    "- Generics means parameterized types. \n",
    "- The idea is to allow type (Integer, String, … etc., and user-defined types) to be a parameter to methods, classes, and interfaces. Using Generics.\n",
    "\n",
    "- It is possible to create classes that work with different data types. \n",
    "\n",
    "- An entity such as class, interface, or method that operates on a parameterized type is a generic entity.\n",
    "\n",
    "```html\n",
    "\n",
    "- Generics was introduced in java 5 \n",
    "- A Feature that had a lot of impact\n",
    "    - New Syntacticak element\n",
    "    - Changes to many classes and methods\n",
    "\n",
    "- Generics had significantly effected the Collectional Framework (which was introduced in java2)\n",
    "\n",
    "\n",
    "\n",
    "```"
   ]
  },
  {
   "cell_type": "markdown",
   "id": "9d2295bc",
   "metadata": {},
   "source": [
    "![](https://i.imgur.com/3NNTsG3.png)"
   ]
  },
  {
   "cell_type": "markdown",
   "id": "77e70f13",
   "metadata": {},
   "source": []
  },
  {
   "cell_type": "code",
   "execution_count": null,
   "id": "b3befa09",
   "metadata": {},
   "outputs": [],
   "source": []
  },
  {
   "cell_type": "markdown",
   "id": "7e1bf3a7",
   "metadata": {},
   "source": [
    "- Parameterized Type : Sending DataType as a parameter while instantiating the class\n",
    "\n",
    "- Both Above problems were solved..\n",
    "\n",
    "- Generic works with only only Warraper Class (Object representation of primitive datatypes)\n"
   ]
  },
  {
   "cell_type": "markdown",
   "id": "22b1da1f",
   "metadata": {},
   "source": [
    "![](https://i.imgur.com/BHTlgCJ.png)"
   ]
  },
  {
   "cell_type": "code",
   "execution_count": null,
   "id": "878d595a",
   "metadata": {},
   "outputs": [],
   "source": []
  },
  {
   "cell_type": "markdown",
   "id": "138e746e",
   "metadata": {},
   "source": [
    "- BOXING:\n",
    "- UNBOXING: \n",
    "- Before Java 5 , use to do manual \n",
    "\n",
    "- With Generic , made automatic \n",
    "    - AUTO BOXING\n",
    "    - AUTO UNBOXING"
   ]
  },
  {
   "cell_type": "markdown",
   "id": "ccea1bc2",
   "metadata": {},
   "source": [
    "![](https://i.imgur.com/S4hEF6A.png)"
   ]
  },
  {
   "cell_type": "code",
   "execution_count": null,
   "id": "5b6f1b17",
   "metadata": {},
   "outputs": [],
   "source": []
  },
  {
   "cell_type": "markdown",
   "id": "d130d6be",
   "metadata": {},
   "source": [
    "#### Type Erasure\n",
    "\n",
    "![](https://i.imgur.com/XO7Q0Fz.png)"
   ]
  },
  {
   "cell_type": "markdown",
   "id": "6a7ef7dd",
   "metadata": {},
   "source": [
    "- Generic is bounded to only current expression , not to executing instances\n",
    "\n",
    "- If passed to any methods , it will not have type information\n",
    "\n",
    "![](https://i.imgur.com/qYsNb6Z.png)"
   ]
  },
  {
   "cell_type": "markdown",
   "id": "4af79657",
   "metadata": {},
   "source": [
    "![](https://i.imgur.com/TvamRnC.png)"
   ]
  },
  {
   "cell_type": "code",
   "execution_count": null,
   "id": "be2679fd",
   "metadata": {},
   "outputs": [],
   "source": []
  },
  {
   "cell_type": "markdown",
   "id": "d674ed8e",
   "metadata": {},
   "source": [
    "### Bridge methods \n",
    "\n",
    "ex: creating default no args constructor in very class"
   ]
  },
  {
   "cell_type": "markdown",
   "id": "45e4990a",
   "metadata": {},
   "source": [
    "![](https://i.imgur.com/bruurJa.png)"
   ]
  },
  {
   "cell_type": "code",
   "execution_count": null,
   "id": "88b8bc0b",
   "metadata": {},
   "outputs": [],
   "source": []
  },
  {
   "cell_type": "code",
   "execution_count": null,
   "id": "bf2c466f",
   "metadata": {},
   "outputs": [],
   "source": []
  },
  {
   "cell_type": "markdown",
   "id": "2d715655",
   "metadata": {},
   "source": [
    "#### Use case"
   ]
  },
  {
   "cell_type": "markdown",
   "id": "c6750905",
   "metadata": {},
   "source": [
    "![](https://i.imgur.com/iU7vqKr.png)\n",
    "\n",
    "\n",
    "#### Generic Class Example\n",
    "\n",
    "![](https://i.imgur.com/QEPDIuE.png)\n",
    "\n",
    "\n",
    "#### Generic Constructor\n",
    "![](https://i.imgur.com/6ywaPnU.png)"
   ]
  },
  {
   "cell_type": "code",
   "execution_count": null,
   "id": "285c5a1d",
   "metadata": {},
   "outputs": [],
   "source": [
    "ff"
   ]
  }
 ],
 "metadata": {
  "kernelspec": {
   "display_name": "Python 3 (ipykernel)",
   "language": "python",
   "name": "python3"
  },
  "language_info": {
   "codemirror_mode": {
    "name": "ipython",
    "version": 3
   },
   "file_extension": ".py",
   "mimetype": "text/x-python",
   "name": "python",
   "nbconvert_exporter": "python",
   "pygments_lexer": "ipython3",
   "version": "3.10.9"
  }
 },
 "nbformat": 4,
 "nbformat_minor": 5
}
