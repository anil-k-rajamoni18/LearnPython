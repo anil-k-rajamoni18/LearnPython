{
 "cells": [
  {
   "cell_type": "markdown",
   "id": "babb5e4a",
   "metadata": {},
   "source": [
    "### Introduction\n",
    "\n",
    "- Python can be used in database applications.\n",
    "\n",
    "- One of the most popular databases is MySQL.\n",
    "- Python needs a MySQL driver to access the MySQL database\n",
    "- Python MySQL Connector is a Python driver that helps to integrate Python and MySQL. \n",
    "- This Python MySQL library allows the conversion between Python and MySQL data types. \n",
    "- MySQL Connector API is implemented using pure Python and does not require any third-party library. \n",
    "\n",
    "\n",
    "```linux\n",
    "# install using pip in cmd \n",
    "\n",
    "pip install  mysql-connector-python \n",
    "```\n",
    "\n",
    "\n",
    "```python\n",
    "# Test in after installation.\n",
    "\n",
    "import mysql.connector\n",
    "\n",
    "```"
   ]
  },
  {
   "cell_type": "code",
   "execution_count": 1,
   "id": "e47f873f",
   "metadata": {},
   "outputs": [],
   "source": [
    "import mysql.connector as mysql"
   ]
  },
  {
   "cell_type": "code",
   "execution_count": 2,
   "id": "638f55aa",
   "metadata": {},
   "outputs": [
    {
     "data": {
      "text/plain": [
       "['BINARY',\n",
       " 'Binary',\n",
       " 'CharacterSet',\n",
       " 'ClientFlag',\n",
       " 'Connect',\n",
       " 'DATETIME',\n",
       " 'DataError',\n",
       " 'DatabaseError',\n",
       " 'Date',\n",
       " 'DateFromTicks',\n",
       " 'Error',\n",
       " 'FieldFlag',\n",
       " 'FieldType',\n",
       " 'HAVE_CEXT',\n",
       " 'IntegrityError',\n",
       " 'InterfaceError',\n",
       " 'InternalError',\n",
       " 'MySQLConnection',\n",
       " 'NUMBER',\n",
       " 'NotSupportedError',\n",
       " 'OperationalError',\n",
       " 'PoolError',\n",
       " 'ProgrammingError',\n",
       " 'ROWID',\n",
       " 'RefreshOption',\n",
       " 'STRING',\n",
       " 'Time',\n",
       " 'TimeFromTicks',\n",
       " 'Timestamp',\n",
       " 'TimestampFromTicks',\n",
       " 'Warning',\n",
       " '_CONNECTION_POOLS',\n",
       " '__all__',\n",
       " '__builtins__',\n",
       " '__cached__',\n",
       " '__doc__',\n",
       " '__file__',\n",
       " '__loader__',\n",
       " '__name__',\n",
       " '__package__',\n",
       " '__path__',\n",
       " '__spec__',\n",
       " '__version__',\n",
       " '__version_info__',\n",
       " '_get_failover_connection',\n",
       " '_get_pooled_connection',\n",
       " 'abstracts',\n",
       " 'apilevel',\n",
       " 'authentication',\n",
       " 'catch23',\n",
       " 'charsets',\n",
       " 'connect',\n",
       " 'connection',\n",
       " 'constants',\n",
       " 'conversion',\n",
       " 'cursor',\n",
       " 'custom_error_exception',\n",
       " 'custom_types',\n",
       " 'dbapi',\n",
       " 'errorcode',\n",
       " 'errors',\n",
       " 'locales',\n",
       " 'network',\n",
       " 'optionfiles',\n",
       " 'paramstyle',\n",
       " 'protocol',\n",
       " 'read_option_files',\n",
       " 'threadsafety',\n",
       " 'utils',\n",
       " 'version']"
      ]
     },
     "execution_count": 2,
     "metadata": {},
     "output_type": "execute_result"
    }
   ],
   "source": [
    "dir(mysql)"
   ]
  },
  {
   "cell_type": "code",
   "execution_count": null,
   "id": "21791bd1",
   "metadata": {},
   "outputs": [],
   "source": []
  },
  {
   "cell_type": "markdown",
   "id": "22a45cef",
   "metadata": {},
   "source": [
    "### Example\n",
    "\n",
    "```python\n",
    "\n",
    "import mysql.connector\n",
    "\n",
    "mydb = mysql.connector.connect(\n",
    "  host=\"localhost\",\n",
    "  user=\"yourusername\",\n",
    "  password=\"yourpassword\",\n",
    "  database = 'yourdatabase',\n",
    "  auth_plugin='mysql_native_password'\n",
    ")\n",
    "\n",
    "print(mydb) \n",
    "\n",
    "```"
   ]
  },
  {
   "cell_type": "code",
   "execution_count": 3,
   "id": "e1fd056b",
   "metadata": {},
   "outputs": [
    {
     "name": "stdout",
     "output_type": "stream",
     "text": [
      "<mysql.connector.connection.MySQLConnection object at 0x000002A3DFC2E5F0>\n"
     ]
    },
    {
     "data": {
      "text/plain": [
       "['__abstractmethods__',\n",
       " '__class__',\n",
       " '__delattr__',\n",
       " '__dict__',\n",
       " '__dir__',\n",
       " '__doc__',\n",
       " '__eq__',\n",
       " '__format__',\n",
       " '__ge__',\n",
       " '__getattribute__',\n",
       " '__gt__',\n",
       " '__hash__',\n",
       " '__init__',\n",
       " '__init_subclass__',\n",
       " '__le__',\n",
       " '__lt__',\n",
       " '__module__',\n",
       " '__ne__',\n",
       " '__new__',\n",
       " '__reduce__',\n",
       " '__reduce_ex__',\n",
       " '__repr__',\n",
       " '__setattr__',\n",
       " '__sizeof__',\n",
       " '__str__',\n",
       " '__subclasshook__',\n",
       " '__weakref__',\n",
       " '_abc_impl',\n",
       " '_auth_plugin',\n",
       " '_auth_switch_request',\n",
       " '_autocommit',\n",
       " '_buffered',\n",
       " '_charset_id',\n",
       " '_check_server_version',\n",
       " '_client_flags',\n",
       " '_client_host',\n",
       " '_client_port',\n",
       " '_compress',\n",
       " '_connection_timeout',\n",
       " '_consume_results',\n",
       " '_converter_class',\n",
       " '_database',\n",
       " '_do_auth',\n",
       " '_do_handshake',\n",
       " '_execute_query',\n",
       " '_force_ipv6',\n",
       " '_get_connection',\n",
       " '_get_self',\n",
       " '_get_warnings',\n",
       " '_handle_binary_ok',\n",
       " '_handle_binary_result',\n",
       " '_handle_eof',\n",
       " '_handle_load_data_infile',\n",
       " '_handle_ok',\n",
       " '_handle_result',\n",
       " '_handle_server_status',\n",
       " '_handshake',\n",
       " '_have_next_result',\n",
       " '_host',\n",
       " '_in_transaction',\n",
       " '_open_connection',\n",
       " '_password',\n",
       " '_pool_config_version',\n",
       " '_port',\n",
       " '_post_connection',\n",
       " '_prepared_statements',\n",
       " '_protocol',\n",
       " '_raise_on_warnings',\n",
       " '_raw',\n",
       " '_read_option_files',\n",
       " '_send_cmd',\n",
       " '_send_data',\n",
       " '_server_version',\n",
       " '_socket',\n",
       " '_sql_mode',\n",
       " '_ssl',\n",
       " '_ssl_active',\n",
       " '_time_zone',\n",
       " '_unix_socket',\n",
       " '_unread_result',\n",
       " '_use_unicode',\n",
       " '_user',\n",
       " 'autocommit',\n",
       " 'can_consume_results',\n",
       " 'charset',\n",
       " 'close',\n",
       " 'cmd_change_user',\n",
       " 'cmd_debug',\n",
       " 'cmd_init_db',\n",
       " 'cmd_ping',\n",
       " 'cmd_process_info',\n",
       " 'cmd_process_kill',\n",
       " 'cmd_query',\n",
       " 'cmd_query_iter',\n",
       " 'cmd_quit',\n",
       " 'cmd_refresh',\n",
       " 'cmd_reset_connection',\n",
       " 'cmd_shutdown',\n",
       " 'cmd_statistics',\n",
       " 'cmd_stmt_close',\n",
       " 'cmd_stmt_execute',\n",
       " 'cmd_stmt_prepare',\n",
       " 'cmd_stmt_reset',\n",
       " 'cmd_stmt_send_long_data',\n",
       " 'collation',\n",
       " 'commit',\n",
       " 'config',\n",
       " 'connect',\n",
       " 'connection_id',\n",
       " 'consume_results',\n",
       " 'converter',\n",
       " 'cursor',\n",
       " 'database',\n",
       " 'disconnect',\n",
       " 'get_row',\n",
       " 'get_rows',\n",
       " 'get_server_info',\n",
       " 'get_server_version',\n",
       " 'get_warnings',\n",
       " 'handle_unread_result',\n",
       " 'in_transaction',\n",
       " 'info_query',\n",
       " 'is_connected',\n",
       " 'isset_client_flag',\n",
       " 'ping',\n",
       " 'python_charset',\n",
       " 'raise_on_warnings',\n",
       " 'reconnect',\n",
       " 'reset_session',\n",
       " 'rollback',\n",
       " 'server_host',\n",
       " 'server_port',\n",
       " 'set_charset_collation',\n",
       " 'set_client_flags',\n",
       " 'set_converter_class',\n",
       " 'set_login',\n",
       " 'set_unicode',\n",
       " 'shutdown',\n",
       " 'sql_mode',\n",
       " 'start_transaction',\n",
       " 'time_zone',\n",
       " 'unix_socket',\n",
       " 'unread_result',\n",
       " 'user']"
      ]
     },
     "execution_count": 3,
     "metadata": {},
     "output_type": "execute_result"
    }
   ],
   "source": [
    "import mysql.connector as mysql\n",
    "\n",
    "# connection object creation\n",
    "mydb = mysql.connect(\n",
    "    host = \"localhost\",\n",
    "    user = \"mayUser\",\n",
    "    password = \"MayDB@18\",\n",
    "    auth_plugin='mysql_native_password'\n",
    ")\n",
    "\n",
    "\n",
    "print(mydb)\n",
    "\n",
    "dir(mydb)"
   ]
  },
  {
   "cell_type": "code",
   "execution_count": 4,
   "id": "15c14851",
   "metadata": {},
   "outputs": [
    {
     "name": "stdout",
     "output_type": "stream",
     "text": [
      "8.0.32 (8, 0, 32)\n"
     ]
    }
   ],
   "source": [
    "print(mydb.get_server_info() , mydb.get_server_version())"
   ]
  },
  {
   "cell_type": "code",
   "execution_count": 5,
   "id": "a5780c81",
   "metadata": {},
   "outputs": [
    {
     "name": "stdout",
     "output_type": "stream",
     "text": [
      "True\n"
     ]
    }
   ],
   "source": [
    "print(mydb.is_connected())"
   ]
  },
  {
   "cell_type": "code",
   "execution_count": 6,
   "id": "fd75b479",
   "metadata": {},
   "outputs": [
    {
     "name": "stdout",
     "output_type": "stream",
     "text": [
      "localhost 3306 mayUser None\n"
     ]
    }
   ],
   "source": [
    "print(mydb.server_host, mydb.server_port , mydb.user , mydb.database)"
   ]
  },
  {
   "cell_type": "code",
   "execution_count": null,
   "id": "b22d5b02",
   "metadata": {},
   "outputs": [],
   "source": []
  },
  {
   "cell_type": "code",
   "execution_count": null,
   "id": "c97f8954",
   "metadata": {},
   "outputs": [],
   "source": []
  },
  {
   "cell_type": "code",
   "execution_count": null,
   "id": "35dad54a",
   "metadata": {},
   "outputs": [],
   "source": []
  },
  {
   "cell_type": "markdown",
   "id": "25ac996f",
   "metadata": {},
   "source": [
    "### Create Database"
   ]
  },
  {
   "cell_type": "code",
   "execution_count": null,
   "id": "247e2dbc",
   "metadata": {},
   "outputs": [],
   "source": []
  },
  {
   "cell_type": "code",
   "execution_count": 36,
   "id": "ca994061",
   "metadata": {},
   "outputs": [
    {
     "name": "stdout",
     "output_type": "stream",
     "text": [
      "('carcompany',)\n",
      "('classicmodels',)\n",
      "('college',)\n",
      "('corona',)\n",
      "('demo',)\n",
      "('employees',)\n",
      "('food',)\n",
      "('information_schema',)\n",
      "('maypydb',)\n",
      "('mysql',)\n",
      "('performance_schema',)\n",
      "('sqljoins',)\n",
      "('sqlpython',)\n",
      "('sys',)\n"
     ]
    }
   ],
   "source": [
    "import mysql.connector as mysql\n",
    "\n",
    "# connection object creation\n",
    "mydb = mysql.connect(\n",
    "    host = \"localhost\",\n",
    "    user = \"mayUser\",\n",
    "    password = \"MayDB@18\",\n",
    "    auth_plugin='mysql_native_password'\n",
    ")\n",
    "\n",
    "\n",
    "# cursor object creation\n",
    "mycursor = mydb.cursor()\n",
    "\n",
    "\n",
    "#print(dir(mycursor))\n",
    "\n",
    "mycursor.execute(\"CREATE DATABASE IF NOT EXISTS MayPyDB \")\n",
    "\n",
    "#print(\"Database created ... successfully...\")\n",
    "\n",
    "\n",
    "# drop database \n",
    "#mycursor.execute(\"DROP DATABASE maypymysqldb\")\n",
    "\n",
    "#print(\"Database  dropped.. ... successfully...\")\n",
    "\n",
    "\n",
    "# show database \n",
    "\n",
    "mycursor.execute(\"SHOW DATABASES\")\n",
    "\n",
    "# resultSet = mycursor.fetchall()\n",
    "\n",
    "# print(resultSet)\n",
    "\n",
    "for dbname in mycursor.fetchall():\n",
    "    print(dbname)"
   ]
  },
  {
   "cell_type": "code",
   "execution_count": null,
   "id": "e622629a",
   "metadata": {},
   "outputs": [],
   "source": []
  },
  {
   "cell_type": "markdown",
   "id": "a4486f5f",
   "metadata": {},
   "source": [
    "### What's cursor?\n",
    "\n",
    "- It's a pointer , points to current table .\n",
    "- A cursor holds the rows (one or more) returned by a SQL statement in resultSet.\n",
    "\n",
    "- Cursor is a Temporary Memory or Temporary Work Station. \n",
    "- It is Allocated by Database Server at the Time of Performing DML(Data Manipulation Language) operations on the Table by the User. \n",
    "\n",
    "- With the help of cursor , we can peform all CREATE , SELECT , DELETE , UPDATE operations.\n",
    "- We can iterate on cursor returned object , for display all entries.\n",
    "\n",
    "There are 2 types of Cursors: Implicit Cursors, and Explicit Cursors.\n",
    "\n",
    "    - Implicit Cursors: \n",
    "    - Explicit Cursors: "
   ]
  },
  {
   "cell_type": "markdown",
   "id": "a6fb4549",
   "metadata": {},
   "source": [
    "### Show Databases\n",
    "\n"
   ]
  },
  {
   "cell_type": "code",
   "execution_count": 34,
   "id": "eb29a7b2",
   "metadata": {},
   "outputs": [
    {
     "name": "stdout",
     "output_type": "stream",
     "text": [
      "('carcompany',)\n",
      "('classicmodels',)\n",
      "('college',)\n",
      "('corona',)\n",
      "('demo',)\n",
      "('employees',)\n",
      "('food',)\n",
      "('information_schema',)\n",
      "('mysql',)\n",
      "('performance_schema',)\n",
      "('sqljoins',)\n",
      "('sqlpython',)\n",
      "('sys',)\n"
     ]
    }
   ],
   "source": [
    "import mysql.connector as mysql\n",
    "\n",
    "mydb = mysql.connect(\n",
    "    host = \"localhost\",\n",
    "    user = \"mayUser\",\n",
    "    password = \"MayDB@18\",\n",
    "    auth_plugin='mysql_native_password'\n",
    ")\n",
    "\n",
    "mycursor = mydb.cursor()\n",
    "\n",
    "mycursor.execute(\"SHOW DATABASES\")\n",
    "\n",
    "for x in mycursor:\n",
    "    print(x) "
   ]
  },
  {
   "cell_type": "code",
   "execution_count": null,
   "id": "72343448",
   "metadata": {},
   "outputs": [],
   "source": []
  },
  {
   "cell_type": "markdown",
   "id": "8cf6d0b4",
   "metadata": {},
   "source": [
    "### Create Table\n",
    "\n",
    "- To create a table in MySQL, use the \"CREATE TABLE\" statement.\n",
    "- NOTE:\n",
    "    define the name of the database when you create the connection"
   ]
  },
  {
   "cell_type": "code",
   "execution_count": 37,
   "id": "e06b1353",
   "metadata": {},
   "outputs": [
    {
     "name": "stdout",
     "output_type": "stream",
     "text": [
      "('customers',)\n"
     ]
    }
   ],
   "source": [
    "import mysql.connector as mysql\n",
    "\n",
    "mydb = mysql.connect(\n",
    "    host = \"localhost\",\n",
    "    user = \"mayUser\",\n",
    "    password = \"MayDB@18\",\n",
    "    database = \"MayPyDB\",\n",
    "    auth_plugin='mysql_native_password'\n",
    ")\n",
    "\n",
    "mycursor = mydb.cursor()\n",
    "\n",
    "mycursor.execute(\"CREATE TABLE customers (name VARCHAR(255), address VARCHAR(255))\")\n",
    "\n",
    "\n",
    "# list all tables\n",
    "mycursor.execute(\"SHOW TABLES\")\n",
    "\n",
    "# DROP TABLE \n",
    "# mycursor.execute(\"DROP TABLE MayPyDB\")\n",
    "\n",
    "for x in mycursor:\n",
    "    print(x)"
   ]
  },
  {
   "cell_type": "markdown",
   "id": "22534c22",
   "metadata": {},
   "source": [
    "### If the table already exists, use the ALTER TABLE keyword:\n"
   ]
  },
  {
   "cell_type": "code",
   "execution_count": 38,
   "id": "93433768",
   "metadata": {},
   "outputs": [
    {
     "name": "stdout",
     "output_type": "stream",
     "text": [
      "alter table command completed....\n"
     ]
    }
   ],
   "source": [
    "import mysql.connector as mysql\n",
    "\n",
    "mydb = mysql.connect(\n",
    "    host = \"localhost\",\n",
    "    user = \"mayUser\",\n",
    "    password = \"MayDB@18\",\n",
    "    database = \"MayPyDB\",\n",
    "    auth_plugin='mysql_native_password'\n",
    ")\n",
    "\n",
    "mycursor = mydb.cursor()\n",
    "\n",
    "mycursor.execute(\"ALTER TABLE customers ADD COLUMN id INT AUTO_INCREMENT PRIMARY KEY\") \n",
    "\n",
    "print(\"alter table command completed....\")"
   ]
  },
  {
   "cell_type": "code",
   "execution_count": null,
   "id": "3c895f1f",
   "metadata": {},
   "outputs": [],
   "source": []
  },
  {
   "cell_type": "markdown",
   "id": "7a3007bb",
   "metadata": {},
   "source": [
    "### Insertion"
   ]
  },
  {
   "cell_type": "code",
   "execution_count": 41,
   "id": "4e81a7f4",
   "metadata": {},
   "outputs": [
    {
     "name": "stdout",
     "output_type": "stream",
     "text": [
      "1 record inserted.\n"
     ]
    }
   ],
   "source": [
    "import mysql.connector as mysql\n",
    "\n",
    "mydb = mysql.connect(\n",
    "    host = \"localhost\",\n",
    "    user = \"mayUser\",\n",
    "    password = \"MayDB@18\",\n",
    "    database = \"MayPyDB\",\n",
    "    auth_plugin='mysql_native_password'\n",
    ")\n",
    "\n",
    "\n",
    "mycursor = mydb.cursor()\n",
    "\n",
    "sql = \"INSERT INTO customers (name, address) VALUES (%s, %s)\"\n",
    "val = (\"Kumar Rajamoni\", \"Hyderbad B.Hills RoadNo. 5\")\n",
    "mycursor.execute(sql, val)\n",
    "\n",
    "mydb.commit() # by default auto_commit is false.\n",
    "\n",
    "print(mycursor.rowcount, \"record inserted.\")\n",
    "\n"
   ]
  },
  {
   "cell_type": "code",
   "execution_count": null,
   "id": "2788242f",
   "metadata": {},
   "outputs": [],
   "source": []
  },
  {
   "cell_type": "code",
   "execution_count": 42,
   "id": "929a65e9",
   "metadata": {},
   "outputs": [
    {
     "name": "stdout",
     "output_type": "stream",
     "text": [
      "13 was inserted.\n"
     ]
    }
   ],
   "source": [
    "import mysql.connector as mysql\n",
    "\n",
    "mydb = mysql.connect(\n",
    "    host = \"localhost\",\n",
    "    user = \"mayUser\",\n",
    "    password = \"MayDB@18\",\n",
    "    database = \"MayPyDB\",\n",
    "    auth_plugin='mysql_native_password'\n",
    ")\n",
    "\n",
    "mycursor = mydb.cursor()\n",
    "\n",
    "sql = \"INSERT INTO customers (name, address) VALUES (%s, %s)\"\n",
    "val = [\n",
    "  ('Peter', 'Lowstreet 4'),\n",
    "  ('Amy', 'Apple st 652'),\n",
    "  ('Hannah', 'Mountain 21'),\n",
    "  ('Michael', 'Valley 345'),\n",
    "  ('Sandy', 'Ocean blvd 2'),\n",
    "  ('Betty', 'Green Grass 1'),\n",
    "  ('Richard', 'Sky st 331'),\n",
    "  ('Susan', 'One way 98'),\n",
    "  ('Vicky', 'Yellow Garden 2'),\n",
    "  ('Ben', 'Park Lane 38'),\n",
    "  ('William', 'Central st 954'),\n",
    "  ('Chuck', 'Main Road 989'),\n",
    "  ('Viola', 'Sideway 1633')\n",
    "]\n",
    "\n",
    "mycursor.executemany(sql, val)\n",
    "\n",
    "mydb.commit()\n",
    "\n",
    "print(mycursor.rowcount, \"was inserted.\") "
   ]
  },
  {
   "cell_type": "code",
   "execution_count": null,
   "id": "9debc6af",
   "metadata": {},
   "outputs": [],
   "source": []
  },
  {
   "cell_type": "markdown",
   "id": "7500d51d",
   "metadata": {},
   "source": [
    "## Retrivel/ Read from Database"
   ]
  },
  {
   "cell_type": "code",
   "execution_count": 44,
   "id": "ef4f34d1",
   "metadata": {},
   "outputs": [
    {
     "name": "stdout",
     "output_type": "stream",
     "text": [
      "('Kumar Rajamoni', 'Hyderbad B.Hills RoadNo. 5', 3)\n"
     ]
    }
   ],
   "source": [
    "import mysql.connector as mysql\n",
    "\n",
    "\n",
    "mydb = mysql.connect(\n",
    "    host = \"localhost\",\n",
    "    user = \"mayUser\",\n",
    "    password = \"MayDB@18\",\n",
    "    database = \"MayPyDB\",\n",
    "    auth_plugin='mysql_native_password'\n",
    ")\n",
    "\n",
    "mycursor = mydb.cursor()\n",
    "\n",
    "\n",
    "mycursor.execute(\"SELECT * FROM customers\")\n",
    "\n",
    "# mycursor.execute(\"SELECT name FROM customers\")\n",
    "\n",
    "# myresult = mycursor.fetchall()\n",
    "\n",
    "# for x in myresult:\n",
    "#   print(x)\n",
    "\n",
    "\n",
    "\n",
    "# fectch only one record.\n",
    "\n",
    "myresult = mycursor.fetchone()\n",
    "\n",
    "print(myresult) "
   ]
  },
  {
   "cell_type": "code",
   "execution_count": null,
   "id": "7c6df221",
   "metadata": {},
   "outputs": [],
   "source": []
  },
  {
   "cell_type": "markdown",
   "id": "bbf81a7a",
   "metadata": {},
   "source": [
    "## Filteration on Data"
   ]
  },
  {
   "cell_type": "code",
   "execution_count": 45,
   "id": "cd7b228a",
   "metadata": {},
   "outputs": [
    {
     "name": "stdout",
     "output_type": "stream",
     "text": [
      "('Ben', 'Park Lane 38', 13)\n"
     ]
    }
   ],
   "source": [
    "import mysql.connector as mysql\n",
    "\n",
    "\n",
    "mydb = mysql.connect(\n",
    "    host = \"localhost\",\n",
    "    user = \"mayUser\",\n",
    "    password = \"MayDB@18\",\n",
    "    database = \"MayPyDB\",\n",
    "    auth_plugin='mysql_native_password'\n",
    ")\n",
    "\n",
    "\n",
    "mycursor = mydb.cursor()\n",
    "\n",
    "sql = \"SELECT * FROM customers WHERE address ='Park Lane 38'\"\n",
    "\n",
    "mycursor.execute(sql)\n",
    "\n",
    "myresult = mycursor.fetchall()\n",
    "\n",
    "for x in myresult:\n",
    "  print(x)"
   ]
  },
  {
   "cell_type": "code",
   "execution_count": 46,
   "id": "359ff4ca",
   "metadata": {},
   "outputs": [
    {
     "name": "stdout",
     "output_type": "stream",
     "text": [
      "('Susan', 'One way 98', 11)\n",
      "('Viola', 'Sideway 1633', 16)\n"
     ]
    }
   ],
   "source": [
    "# with wildcard characters\n",
    "\n",
    "sql = \"SELECT * FROM customers WHERE address LIKE '%way%'\"\n",
    "\n",
    "mycursor.execute(sql)\n",
    "\n",
    "myresult = mycursor.fetchall()\n",
    "\n",
    "for x in myresult:\n",
    "  print(x) "
   ]
  },
  {
   "cell_type": "code",
   "execution_count": 47,
   "id": "3f6be389",
   "metadata": {},
   "outputs": [
    {
     "name": "stdout",
     "output_type": "stream",
     "text": [
      "('Vicky', 'Yellow Garden 2', 12)\n"
     ]
    }
   ],
   "source": [
    "\n",
    "# sql injection \n",
    "\n",
    "\n",
    "sql = \"SELECT * FROM customers WHERE address = %s\"\n",
    "adr = (\"Yellow Garden 2\", )\n",
    "\n",
    "mycursor.execute(sql, adr)\n",
    "\n",
    "myresult = mycursor.fetchall()\n",
    "\n",
    "for x in myresult:\n",
    "  print(x) "
   ]
  },
  {
   "cell_type": "markdown",
   "id": "420574f1",
   "metadata": {},
   "source": [
    "#### Order By"
   ]
  },
  {
   "cell_type": "code",
   "execution_count": 48,
   "id": "3dc8d379",
   "metadata": {},
   "outputs": [
    {
     "name": "stdout",
     "output_type": "stream",
     "text": [
      "('Amy', 'Apple st 652', 5)\n",
      "('Ben', 'Park Lane 38', 13)\n",
      "('Betty', 'Green Grass 1', 9)\n",
      "('Chuck', 'Main Road 989', 15)\n",
      "('Hannah', 'Mountain 21', 6)\n",
      "('Kumar Rajamoni', 'Hyderbad B.Hills RoadNo. 5', 3)\n",
      "('Michael', 'Valley 345', 7)\n",
      "('Peter', 'Lowstreet 4', 4)\n",
      "('Richard', 'Sky st 331', 10)\n",
      "('Sandy', 'Ocean blvd 2', 8)\n",
      "('Susan', 'One way 98', 11)\n",
      "('Vicky', 'Yellow Garden 2', 12)\n",
      "('Viola', 'Sideway 1633', 16)\n",
      "('William', 'Central st 954', 14)\n"
     ]
    }
   ],
   "source": [
    "sql = \"SELECT * FROM customers ORDER BY name\"\n",
    "\n",
    "mycursor.execute(sql)\n",
    "\n",
    "myresult = mycursor.fetchall()\n",
    "\n",
    "for x in myresult:\n",
    "  print(x)"
   ]
  },
  {
   "cell_type": "code",
   "execution_count": 49,
   "id": "a2edc1e7",
   "metadata": {},
   "outputs": [
    {
     "name": "stdout",
     "output_type": "stream",
     "text": [
      "('William', 'Central st 954', 14)\n",
      "('Viola', 'Sideway 1633', 16)\n",
      "('Vicky', 'Yellow Garden 2', 12)\n",
      "('Susan', 'One way 98', 11)\n",
      "('Sandy', 'Ocean blvd 2', 8)\n",
      "('Richard', 'Sky st 331', 10)\n",
      "('Peter', 'Lowstreet 4', 4)\n",
      "('Michael', 'Valley 345', 7)\n",
      "('Kumar Rajamoni', 'Hyderbad B.Hills RoadNo. 5', 3)\n",
      "('Hannah', 'Mountain 21', 6)\n",
      "('Chuck', 'Main Road 989', 15)\n",
      "('Betty', 'Green Grass 1', 9)\n",
      "('Ben', 'Park Lane 38', 13)\n",
      "('Amy', 'Apple st 652', 5)\n"
     ]
    }
   ],
   "source": [
    "# order by desc\n",
    "\n",
    "sql = \"SELECT * FROM customers ORDER BY name DESC\"\n",
    "\n",
    "mycursor.execute(sql)\n",
    "\n",
    "myresult = mycursor.fetchall()\n",
    "\n",
    "for x in myresult:\n",
    "  print(x) "
   ]
  },
  {
   "cell_type": "code",
   "execution_count": null,
   "id": "4f8801e9",
   "metadata": {},
   "outputs": [],
   "source": []
  },
  {
   "cell_type": "code",
   "execution_count": null,
   "id": "12972cfc",
   "metadata": {},
   "outputs": [],
   "source": []
  },
  {
   "cell_type": "markdown",
   "id": "2009fe0e",
   "metadata": {},
   "source": [
    "#### LIMIT "
   ]
  },
  {
   "cell_type": "code",
   "execution_count": 50,
   "id": "740050a7",
   "metadata": {},
   "outputs": [
    {
     "name": "stdout",
     "output_type": "stream",
     "text": [
      "('Kumar Rajamoni', 'Hyderbad B.Hills RoadNo. 5', 3)\n",
      "('Peter', 'Lowstreet 4', 4)\n",
      "('Amy', 'Apple st 652', 5)\n",
      "('Hannah', 'Mountain 21', 6)\n",
      "('Michael', 'Valley 345', 7)\n"
     ]
    }
   ],
   "source": [
    "mycursor = mydb.cursor()\n",
    "\n",
    "mycursor.execute(\"SELECT * FROM customers LIMIT 5\")\n",
    "\n",
    "myresult = mycursor.fetchall()\n",
    "\n",
    "for x in myresult:\n",
    "  print(x) "
   ]
  },
  {
   "cell_type": "code",
   "execution_count": null,
   "id": "8fb23aa3",
   "metadata": {},
   "outputs": [],
   "source": []
  },
  {
   "cell_type": "markdown",
   "id": "21cec4f3",
   "metadata": {},
   "source": [
    "#### OFFSET \n"
   ]
  },
  {
   "cell_type": "code",
   "execution_count": null,
   "id": "bd6ee049",
   "metadata": {},
   "outputs": [],
   "source": []
  },
  {
   "cell_type": "code",
   "execution_count": 51,
   "id": "903c8d64",
   "metadata": {},
   "outputs": [
    {
     "name": "stdout",
     "output_type": "stream",
     "text": [
      "('Amy', 'Apple st 652', 5)\n",
      "('Hannah', 'Mountain 21', 6)\n",
      "('Michael', 'Valley 345', 7)\n",
      "('Sandy', 'Ocean blvd 2', 8)\n",
      "('Betty', 'Green Grass 1', 9)\n"
     ]
    }
   ],
   "source": [
    "mycursor = mydb.cursor()\n",
    "\n",
    "mycursor.execute(\"SELECT * FROM customers LIMIT 5 OFFSET 2\")\n",
    "\n",
    "myresult = mycursor.fetchall()\n",
    "\n",
    "for x in myresult:\n",
    "  print(x) "
   ]
  },
  {
   "cell_type": "code",
   "execution_count": null,
   "id": "2c6cfa08",
   "metadata": {},
   "outputs": [],
   "source": []
  },
  {
   "cell_type": "markdown",
   "id": "ed22811f",
   "metadata": {},
   "source": [
    "## Deletion "
   ]
  },
  {
   "cell_type": "code",
   "execution_count": 53,
   "id": "8f03d814",
   "metadata": {},
   "outputs": [
    {
     "name": "stdout",
     "output_type": "stream",
     "text": [
      "1 record(s) deleted\n"
     ]
    }
   ],
   "source": [
    "import mysql.connector as mysql\n",
    "\n",
    "\n",
    "mydb = mysql.connect(\n",
    "    host = \"localhost\",\n",
    "    user = \"mayUser\",\n",
    "    password = \"MayDB@18\",\n",
    "    database = \"MayPyDB\",\n",
    "    auth_plugin='mysql_native_password'\n",
    ")\n",
    "\n",
    "mycursor = mydb.cursor()\n",
    "\n",
    "sql = \"DELETE FROM customers WHERE address = 'Mountain 21'\"\n",
    "\n",
    "mycursor.execute(sql)\n",
    "\n",
    "mydb.commit()\n",
    "\n",
    "print(mycursor.rowcount, \"record(s) deleted\")"
   ]
  },
  {
   "cell_type": "markdown",
   "id": "b90dce68",
   "metadata": {},
   "source": [
    "#### NOTE: \n",
    "\n",
    "Notice the statement: mydb.commit(). It is required to make the changes, otherwise no changes are made to the table."
   ]
  },
  {
   "cell_type": "code",
   "execution_count": 54,
   "id": "96db6ca7",
   "metadata": {},
   "outputs": [
    {
     "name": "stdout",
     "output_type": "stream",
     "text": [
      "1 record(s) deleted\n"
     ]
    }
   ],
   "source": [
    "mycursor = mydb.cursor()\n",
    "\n",
    "sql = \"DELETE FROM customers WHERE address = %s\"\n",
    "adr = (\"Yellow Garden 2\", )\n",
    "\n",
    "mycursor.execute(sql, adr)\n",
    "\n",
    "mydb.commit()\n",
    "\n",
    "print(mycursor.rowcount, \"record(s) deleted\") "
   ]
  },
  {
   "cell_type": "code",
   "execution_count": null,
   "id": "a780f1e3",
   "metadata": {},
   "outputs": [],
   "source": []
  },
  {
   "cell_type": "code",
   "execution_count": null,
   "id": "b196b5f6",
   "metadata": {},
   "outputs": [],
   "source": []
  },
  {
   "cell_type": "markdown",
   "id": "9fc53d87",
   "metadata": {},
   "source": [
    "## Updation"
   ]
  },
  {
   "cell_type": "code",
   "execution_count": 55,
   "id": "616b60ce",
   "metadata": {},
   "outputs": [
    {
     "name": "stdout",
     "output_type": "stream",
     "text": [
      "1 record(s) affected\n"
     ]
    }
   ],
   "source": [
    "import mysql.connector as mysql\n",
    "\n",
    "\n",
    "mydb = mysql.connect(\n",
    "    host = \"localhost\",\n",
    "    user = \"mayUser\",\n",
    "    password = \"MayDB@18\",\n",
    "    database = \"MayPyDB\",\n",
    "    auth_plugin='mysql_native_password'\n",
    ")\n",
    "\n",
    "mycursor = mydb.cursor()\n",
    "\n",
    "sql = \"UPDATE customers SET address = 'Canyon 123' WHERE address = 'Valley 345'\"\n",
    "\n",
    "mycursor.execute(sql)\n",
    "\n",
    "mydb.commit()\n",
    "\n",
    "print(mycursor.rowcount, \"record(s) affected\") "
   ]
  },
  {
   "cell_type": "code",
   "execution_count": 56,
   "id": "a0114522",
   "metadata": {},
   "outputs": [
    {
     "name": "stdout",
     "output_type": "stream",
     "text": [
      "1 record(s) affected\n"
     ]
    }
   ],
   "source": [
    "\n",
    "#SQL INJECTION EXAMPLE \n",
    "\n",
    "sql = \"UPDATE customers SET address = %s WHERE address = %s\"\n",
    "val = (\"Valley 345\", \"Canyon 123\")\n",
    "\n",
    "mycursor.execute(sql, val)\n",
    "\n",
    "mydb.commit()\n",
    "\n",
    "print(mycursor.rowcount, \"record(s) affected\") "
   ]
  },
  {
   "cell_type": "code",
   "execution_count": null,
   "id": "cfc397ce",
   "metadata": {},
   "outputs": [],
   "source": []
  },
  {
   "cell_type": "code",
   "execution_count": null,
   "id": "7629e079",
   "metadata": {},
   "outputs": [],
   "source": []
  },
  {
   "cell_type": "markdown",
   "id": "acdaba3f",
   "metadata": {},
   "source": [
    "## Join\n",
    "\n",
    ">> SQL Join statement is used to combine data or rows from two or more tables based on a common field between them. Different types of Joins are as follows: \n",
    "\n",
    "    INNER JOIN\n",
    "    LEFT JOIN\n",
    "    RIGHT JOIN\n",
    "    FULL JOIN\n",
    "    NATURAL JOIN \n",
    "\n",
    "- You can combine rows from two or more tables, based on a related column between them, by using a JOIN statement."
   ]
  },
  {
   "cell_type": "code",
   "execution_count": null,
   "id": "2edc664c",
   "metadata": {},
   "outputs": [],
   "source": []
  },
  {
   "cell_type": "code",
   "execution_count": null,
   "id": "e18c49fc",
   "metadata": {},
   "outputs": [],
   "source": []
  },
  {
   "cell_type": "markdown",
   "id": "7abaefa5",
   "metadata": {},
   "source": [
    "### Example"
   ]
  },
  {
   "cell_type": "code",
   "execution_count": null,
   "id": "86a9ebe8",
   "metadata": {},
   "outputs": [],
   "source": [
    "import mysql.connector as mysql\n",
    "\n",
    "\n",
    "mydb = mysql.connect(\n",
    "    host = \"localhost\",\n",
    "    user = \"mayUser\",\n",
    "    password = \"MayDB@18\",\n",
    "    auth_plugin='mysql_native_password'\n",
    ")\n",
    "\n",
    "mycursor = mydb.cursor()\n",
    "\n",
    "mycursor.execute(\"CREATE DATABASE IF NOT EXISTS SqlJoins\")\n",
    "\n",
    "\n",
    "\n",
    "mydb.close()\n",
    "\n",
    "\n"
   ]
  },
  {
   "cell_type": "code",
   "execution_count": null,
   "id": "ba221723",
   "metadata": {},
   "outputs": [],
   "source": [
    "import mysql.connector as mysql\n",
    "\n",
    "\n",
    "mydb = mysql.connect(\n",
    "    host = \"localhost\",\n",
    "    user = \"mayUser\",\n",
    "    password = \"MayDB@18\",\n",
    "    database = 'SqlJoins',\n",
    "    auth_plugin='mysql_native_password'\n",
    ")\n",
    "\n",
    "mycursor = mydb.cursor()\n",
    "\n",
    "mycursor.execute(\n",
    "                    ''' \n",
    "                    CREATE TABLE IF NOT EXISTS users(\n",
    "                                id INTEGER                PRIMARY KEY,\n",
    "                                name VARCHAR(20)          NOT NULL,\n",
    "                                fav                       INTEGER NOT NULL \n",
    "                                )\n",
    "                    '''\n",
    "                )\n",
    "\n",
    "\n",
    "\n",
    "\n",
    "mycursor.execute(\n",
    "                    '''\n",
    "                    CREATE TABLE IF NOT EXISTS products (\n",
    "                                id INTEGER               PRIMARY KEY,\n",
    "                                name VARCHAR(20)         NOT NULL\n",
    "                                ) \n",
    "                    '''\n",
    "                )\n",
    "\n",
    "\n",
    "print(\"TABLES CREATED..\")"
   ]
  },
  {
   "cell_type": "code",
   "execution_count": null,
   "id": "1486fa27",
   "metadata": {},
   "outputs": [],
   "source": [
    "import mysql.connector as mysql\n",
    "\n",
    "\n",
    "mydb = mysql.connect(\n",
    "    host = \"localhost\",\n",
    "    user = \"mayUser\",\n",
    "    password = \"MayDB@18\",\n",
    "    database = \"SqlJoins\",\n",
    "    auth_plugin='mysql_native_password'\n",
    ")\n",
    "\n",
    "mycursor = mydb.cursor()\n",
    "\n",
    "\n",
    "userSql = \"INSERT INTO users (id,name,fav) VALUES (%s, %s,%s)\"\n",
    "userdata = [\n",
    "    (1,'John',154),(2,'Peter','154'),(3,'Amy',155),(4,'samantha',156),(5,'Miller',152),(6,'Hannah',152)\n",
    "]\n",
    "\n",
    "mycursor.executemany(userSql,userdata)\n",
    "\n",
    "\n",
    "mydb.commit()\n",
    "print(\"LOG: Data inserted to Users table .....\")\n",
    "\n",
    "\n",
    "productSql =  \"INSERT INTO products (id,name) VALUES (%s, %s)\"\n",
    "productdata = [(152,'Death By Icecream'),\n",
    "                (154,'Chocolate Heaven'),\n",
    "                (155,'Tasty Lemons'),\n",
    "                (156,'Vanilla Dreams')] \n",
    "\n",
    "\n",
    "mycursor.executemany(productSql,productdata)\n",
    "\n",
    "mydb.commit()\n",
    "print(\"LOG: Data inserted to Products table .....\")"
   ]
  },
  {
   "cell_type": "code",
   "execution_count": null,
   "id": "c7afb01b",
   "metadata": {},
   "outputs": [],
   "source": []
  },
  {
   "cell_type": "markdown",
   "id": "e6fd8a34",
   "metadata": {},
   "source": [
    "### INNER-JOIN\n",
    "\n",
    "- The INNER JOIN keyword selects all rows from both the tables as long as the condition is satisfied. \n",
    "- This keyword will create the result-set by combining all rows from both the tables where the condition satisfies i.e value of the common field will be the same\n",
    "\n",
    "- We can also write JOIN instead of INNER JOIN. JOIN is same as INNER JOIN. \n",
    "\n",
    "\n",
    "\n",
    "![](https://blog.codinghorror.com/content/images/uploads/2007/10/6a0120a85dcdae970b012877702708970c-pi.png)\n",
    "\n",
    "```sql\n",
    "SELECT table1.column1,table1.column2,table2.column1,....\n",
    "FROM table1 \n",
    "INNER JOIN table2\n",
    "ON table1.matching_column = table2.matching_column;\n",
    "\n",
    "\n",
    "table1: First table.\n",
    "table2: Second table\n",
    "matching_column: Column common to both the tables.\n",
    "\n",
    "```"
   ]
  },
  {
   "cell_type": "code",
   "execution_count": null,
   "id": "7002360a",
   "metadata": {},
   "outputs": [],
   "source": []
  },
  {
   "cell_type": "code",
   "execution_count": null,
   "id": "edcbac30",
   "metadata": {},
   "outputs": [],
   "source": [
    "import mysql.connector as mysql\n",
    "\n",
    "\n",
    "mydb = mysql.connect(\n",
    "    host = \"localhost\",\n",
    "    user = \"mayUser\",\n",
    "    password = \"MayDB@18\",\n",
    "    database = \"SqlJoins\",\n",
    "    auth_plugin='mysql_native_password'\n",
    ")\n",
    "\n",
    "\n",
    "mycursor = mydb.cursor()\n",
    "\n",
    "sql = \"SELECT \\\n",
    "  users.name AS user, \\\n",
    "  products.name AS favorite \\\n",
    "  FROM users \\\n",
    "  INNER JOIN products ON users.fav = products.id\"\n",
    "\n",
    "mycursor.execute(sql)\n",
    "\n",
    "myresult = mycursor.fetchall()\n",
    "\n",
    "for x in myresult:\n",
    "  print(x) "
   ]
  },
  {
   "cell_type": "code",
   "execution_count": null,
   "id": "31b13525",
   "metadata": {},
   "outputs": [],
   "source": []
  },
  {
   "cell_type": "code",
   "execution_count": null,
   "id": "bded645d",
   "metadata": {},
   "outputs": [],
   "source": []
  },
  {
   "cell_type": "markdown",
   "id": "c4be09dc",
   "metadata": {},
   "source": [
    "###  LEFT JOIN\n",
    "\n",
    "- This join returns all the rows of the table on the left side of the join and matches rows for the table on the right side of the join. \n",
    "\n",
    "- For the rows for which there is no matching row on the right side, the result-set will contain null. \n",
    "\n",
    "- LEFT JOIN is also known as LEFT OUTER JOIN\n",
    "\n",
    "\n",
    "```sql\n",
    "\n",
    "SELECT table1.column1,table1.column2,table2.column1,....\n",
    "FROM table1 \n",
    "LEFT JOIN table2\n",
    "ON table1.matching_column = table2.matching_column;\n",
    "\n",
    "\n",
    "```\n",
    "\n",
    "![](https://i.stack.imgur.com/VkAT5.png)"
   ]
  },
  {
   "cell_type": "code",
   "execution_count": null,
   "id": "05a38813",
   "metadata": {},
   "outputs": [],
   "source": [
    "import mysql.connector as mysql\n",
    "\n",
    "\n",
    "mydb = mysql.connect(\n",
    "    host = \"localhost\",\n",
    "    user = \"mayUser\",\n",
    "    password = \"MayDB@18\",\n",
    "    database = \"SqlJoins\",\n",
    "    auth_plugin='mysql_native_password'\n",
    ")\n",
    "\n",
    "\n",
    "mycursor = mydb.cursor()\n",
    "\n",
    "sql = \"SELECT \\\n",
    "  users.name AS user, \\\n",
    "  products.name AS favorite \\\n",
    "  FROM users \\\n",
    "  LEFT JOIN products ON users.fav = products.id\"\n",
    "\n",
    "mycursor.execute(sql)\n",
    "\n",
    "myresult = mycursor.fetchall()\n",
    "\n",
    "for x in myresult:\n",
    "  print(x)"
   ]
  },
  {
   "cell_type": "code",
   "execution_count": null,
   "id": "b19d231b",
   "metadata": {},
   "outputs": [],
   "source": []
  },
  {
   "cell_type": "markdown",
   "id": "1438b0e0",
   "metadata": {},
   "source": [
    "### RIGHT JOIN\n",
    "\n",
    "- RIGHT JOIN is similar to LEFT JOIN. This join returns all the rows of the table on the right side of the join and matching rows for the table on the left side of the join. \n",
    "\n",
    "- For the rows for which there is no matching row on the left side, the result-set will contain null.\n",
    "\n",
    "- RIGHT JOIN is also known as RIGHT OUTER JOIN. \n",
    "\n",
    "\n",
    "```sql\n",
    "SELECT table1.column1,table1.column2,table2.column1,....\n",
    "FROM table1 \n",
    "RIGHT JOIN table2\n",
    "ON table1.matching_column = table2.matching_column;\n",
    "\n",
    "\n",
    "\n",
    "```\n",
    "![](https://media.geeksforgeeks.org/wp-content/uploads/20220515095048/join.jpg)"
   ]
  },
  {
   "cell_type": "code",
   "execution_count": null,
   "id": "2b36c75e",
   "metadata": {},
   "outputs": [],
   "source": [
    "import mysql.connector as mysql\n",
    "\n",
    "\n",
    "mydb = mysql.connect(\n",
    "    host = \"localhost\",\n",
    "    user = \"mayUser\",\n",
    "    password = \"MayDB@18\",\n",
    "    database = \"SqlJoins\",\n",
    "    auth_plugin='mysql_native_password'\n",
    ")\n",
    "\n",
    "\n",
    "mycursor = mydb.cursor()\n",
    "\n",
    "sql = \"SELECT \\\n",
    "  users.name AS user, \\\n",
    "  products.name AS favorite \\\n",
    "  FROM users \\\n",
    "  RIGHT JOIN products ON users.fav = products.id\"\n",
    "\n",
    "mycursor.execute(sql)\n",
    "\n",
    "myresult = mycursor.fetchall()\n",
    "\n",
    "for x in myresult:\n",
    "  print(x)"
   ]
  },
  {
   "cell_type": "code",
   "execution_count": null,
   "id": "ba50ba59",
   "metadata": {},
   "outputs": [],
   "source": []
  },
  {
   "cell_type": "code",
   "execution_count": null,
   "id": "2fd07e2b",
   "metadata": {},
   "outputs": [],
   "source": []
  },
  {
   "cell_type": "markdown",
   "id": "1f4720ff",
   "metadata": {},
   "source": [
    "### Task \n",
    "-  Create a Database with someName\n",
    "- Create a Table with same structure of json document\n",
    "- Read the json data url and convert back to python dictionary \n",
    "- Iterate on data , insert one by one entry into table.\n",
    "\n",
    "\n",
    "- https://github.com/vega/vega/blob/main/docs/data/cars.json"
   ]
  },
  {
   "cell_type": "code",
   "execution_count": 47,
   "id": "342c7587",
   "metadata": {},
   "outputs": [
    {
     "name": "stdout",
     "output_type": "stream",
     "text": [
      "table created...\n"
     ]
    }
   ],
   "source": [
    "import mysql.connector as mysql\n",
    "\n",
    "\n",
    "mydb = mysql.connect(\n",
    "    host = \"localhost\",\n",
    "    user = \"mayUser\",\n",
    "    password = \"MayDB@18\",\n",
    "    database = 'classic_cars_db',\n",
    "    auth_plugin='mysql_native_password'\n",
    ")\n",
    "\n",
    "cursor = mydb.cursor()\n",
    "\n",
    "#cursor.execute(\"CREATE DATABASE IF NOT EXISTS classic_cars_db\")\n",
    "tableQuery = '''\n",
    "        CREATE TABLE IF NOT EXISTS  car(\n",
    "        carsId INT AUTO_INCREMENT PRIMARY KEY,\n",
    "        Name VARCHAR(255) NOT NULL,\n",
    "        Miles INT ,\n",
    "        Cylinders INT  ,\n",
    "        Displacement INT ,\n",
    "        Horsepower INT ,\n",
    "        Weight INT ,\n",
    "        Acceleration INT ,\n",
    "        Year VARCHAR(15) ,\n",
    "        Origin VARCHAR(255)\n",
    "        )\n",
    "'''\n",
    "cursor.execute(tableQuery)\n",
    "\n",
    "print('table created...')"
   ]
  },
  {
   "cell_type": "code",
   "execution_count": 37,
   "id": "e418b5a2",
   "metadata": {},
   "outputs": [
    {
     "data": {
      "text/plain": [
       "['__abstractmethods__',\n",
       " '__class__',\n",
       " '__delattr__',\n",
       " '__dict__',\n",
       " '__dir__',\n",
       " '__doc__',\n",
       " '__eq__',\n",
       " '__format__',\n",
       " '__ge__',\n",
       " '__getattribute__',\n",
       " '__gt__',\n",
       " '__hash__',\n",
       " '__init__',\n",
       " '__init_subclass__',\n",
       " '__iter__',\n",
       " '__le__',\n",
       " '__lt__',\n",
       " '__module__',\n",
       " '__ne__',\n",
       " '__new__',\n",
       " '__next__',\n",
       " '__reduce__',\n",
       " '__reduce_ex__',\n",
       " '__repr__',\n",
       " '__setattr__',\n",
       " '__sizeof__',\n",
       " '__str__',\n",
       " '__subclasshook__',\n",
       " '__weakref__',\n",
       " '_abc_impl',\n",
       " '_batch_insert',\n",
       " '_binary',\n",
       " '_connection',\n",
       " '_description',\n",
       " '_execute_iter',\n",
       " '_executed',\n",
       " '_executed_list',\n",
       " '_fetch_row',\n",
       " '_fetch_warnings',\n",
       " '_handle_eof',\n",
       " '_handle_noresultset',\n",
       " '_handle_result',\n",
       " '_handle_resultset',\n",
       " '_handle_warnings',\n",
       " '_have_unread_result',\n",
       " '_last_insert_id',\n",
       " '_nextrow',\n",
       " '_process_params',\n",
       " '_process_params_dict',\n",
       " '_raw',\n",
       " '_reset_result',\n",
       " '_rowcount',\n",
       " '_set_connection',\n",
       " '_stored_results',\n",
       " '_warning_count',\n",
       " '_warnings',\n",
       " 'arraysize',\n",
       " 'callproc',\n",
       " 'close',\n",
       " 'column_names',\n",
       " 'description',\n",
       " 'execute',\n",
       " 'executemany',\n",
       " 'fetchall',\n",
       " 'fetchmany',\n",
       " 'fetchone',\n",
       " 'fetchwarnings',\n",
       " 'getlastrowid',\n",
       " 'lastrowid',\n",
       " 'next',\n",
       " 'nextset',\n",
       " 'reset',\n",
       " 'rowcount',\n",
       " 'setinputsizes',\n",
       " 'setoutputsize',\n",
       " 'statement',\n",
       " 'stored_results',\n",
       " 'with_rows']"
      ]
     },
     "execution_count": 37,
     "metadata": {},
     "output_type": "execute_result"
    }
   ],
   "source": [
    "#dir(cursor)"
   ]
  },
  {
   "cell_type": "code",
   "execution_count": 51,
   "id": "26c37bed",
   "metadata": {},
   "outputs": [
    {
     "name": "stdout",
     "output_type": "stream",
     "text": [
      "inserted : 1\n"
     ]
    }
   ],
   "source": [
    "import requests as r\n",
    "\n",
    "response = None \n",
    "apiurl = \"https://raw.githubusercontent.com/vega/vega/main/docs/data/cars.json\"\n",
    "\n",
    "try:\n",
    "    data = r.get(\"https://raw.githubusercontent.com/vega/vega/main/docs/data/cars.json\")\n",
    "    if (data.status_code == 200):\n",
    "        response = data.json()\n",
    "    else:\n",
    "        print('status code is not 200 , issue with endpoint..')\n",
    "        \n",
    "except Exception as e:\n",
    "    print(f'Exception occured whil calling and parsing data : {e}')\n",
    "    \n",
    "#print(type(response))\n",
    "\n",
    "for entry in response:\n",
    "    insertQuery = '''\n",
    "                 insert into car(Name,Miles,Cylinders,Displacement,Horsepower,Weight,Acceleration,Year,Origin)\n",
    "                 values(%s,%s,%s,%s,%s,%s,%s,%s,%s)   \n",
    "                '''\n",
    "    values = list(entry.values())\n",
    "    cursor.execute(insertQuery,values)\n",
    "    mydb.commit()\n",
    "   \n",
    "\n"
   ]
  },
  {
   "cell_type": "code",
   "execution_count": 52,
   "id": "29bf713d",
   "metadata": {},
   "outputs": [
    {
     "data": {
      "text/plain": [
       "dict_items([('Name', 'chevrolet chevelle malibu'), ('Miles_per_Gallon', 18), ('Cylinders', 8), ('Displacement', 307), ('Horsepower', 130), ('Weight_in_lbs', 3504), ('Acceleration', 12), ('Year', '1970-01-01'), ('Origin', 'USA')])"
      ]
     },
     "execution_count": 52,
     "metadata": {},
     "output_type": "execute_result"
    }
   ],
   "source": []
  },
  {
   "cell_type": "code",
   "execution_count": 43,
   "id": "e0d99bfa",
   "metadata": {},
   "outputs": [
    {
     "data": {
      "text/plain": [
       "9"
      ]
     },
     "execution_count": 43,
     "metadata": {},
     "output_type": "execute_result"
    }
   ],
   "source": [
    "len(['chevrolet chevelle malibu', 18, 8, 307, 130, 3504, 12, '1970-01-01', 'USA'])"
   ]
  },
  {
   "cell_type": "code",
   "execution_count": 53,
   "id": "2e56d326",
   "metadata": {},
   "outputs": [],
   "source": [
    "query = '''\n",
    "                INSERT INTO cars(Name,Miles_per_gallon,Cylinders,Displacement,HorsePower,Weight,Acceleration,Year,Origin) \n",
    "                VALUES('{0}',{1},{2},{3},{4},{5},{6},{7},'{8}')\n",
    "                 '''"
   ]
  },
  {
   "cell_type": "code",
   "execution_count": 57,
   "id": "7a12136c",
   "metadata": {},
   "outputs": [
    {
     "data": {
      "text/plain": [
       "\"\\n                INSERT INTO cars(Name,Miles_per_gallon,Cylinders,Displacement,HorsePower,Weight,Acceleration,Year,Origin) \\n                VALUES('ford maverick',15,6,250,72,3158,19.5,1975-01-01,'USA')\\n                 \""
      ]
     },
     "execution_count": 57,
     "metadata": {},
     "output_type": "execute_result"
    }
   ],
   "source": [
    "query.format('ford maverick',15, 6, 250, 72, 3158, 19.5, '1975-01-01', 'USA')\n"
   ]
  },
  {
   "cell_type": "code",
   "execution_count": null,
   "id": "cc93c827",
   "metadata": {},
   "outputs": [],
   "source": []
  }
 ],
 "metadata": {
  "kernelspec": {
   "display_name": "Python 3 (ipykernel)",
   "language": "python",
   "name": "python3"
  },
  "language_info": {
   "codemirror_mode": {
    "name": "ipython",
    "version": 3
   },
   "file_extension": ".py",
   "mimetype": "text/x-python",
   "name": "python",
   "nbconvert_exporter": "python",
   "pygments_lexer": "ipython3",
   "version": "3.10.9"
  }
 },
 "nbformat": 4,
 "nbformat_minor": 5
}
