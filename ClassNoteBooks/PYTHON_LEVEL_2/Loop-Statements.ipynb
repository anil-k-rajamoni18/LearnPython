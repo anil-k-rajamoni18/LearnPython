{
 "cells": [
  {
   "cell_type": "markdown",
   "id": "fcce1230",
   "metadata": {},
   "source": [
    "### Looping Statements"
   ]
  },
  {
   "cell_type": "markdown",
   "id": "0daea6ca",
   "metadata": {},
   "source": [
    "#### Break\n",
    "\n",
    "- With the break statement we can stop the loop before it has looped through all the items:\n",
    "\n",
    "\n",
    "#### Continue \n",
    "\n",
    "- With the continue statement we can stop the current iteration of the loop, and continue with the next:\n",
    "\n",
    "- skips the current iteration\n",
    "\n",
    "#### pass\n",
    "    for/while loops cannot be empty, but if you for some reason have a for loop with no content, put in the pass statement to avoid getting an error"
   ]
  },
  {
   "cell_type": "code",
   "execution_count": null,
   "id": "feb065d5",
   "metadata": {},
   "outputs": [],
   "source": [
    "# PASS"
   ]
  },
  {
   "cell_type": "code",
   "execution_count": null,
   "id": "d93024f1",
   "metadata": {},
   "outputs": [],
   "source": [
    "if 10>20:\n",
    "    pass"
   ]
  },
  {
   "cell_type": "code",
   "execution_count": null,
   "id": "47b07add",
   "metadata": {},
   "outputs": [],
   "source": [
    "for i in range(10):\n",
    "    pass\n",
    "    "
   ]
  },
  {
   "cell_type": "code",
   "execution_count": null,
   "id": "6639c3fa",
   "metadata": {},
   "outputs": [],
   "source": [
    "while 10>2:\n",
    "    pass"
   ]
  },
  {
   "cell_type": "code",
   "execution_count": null,
   "id": "2b461baf",
   "metadata": {},
   "outputs": [],
   "source": []
  },
  {
   "cell_type": "code",
   "execution_count": null,
   "id": "42da7ab5",
   "metadata": {},
   "outputs": [],
   "source": [
    "# BREAK\n"
   ]
  },
  {
   "cell_type": "code",
   "execution_count": 10,
   "id": "24cc43df",
   "metadata": {},
   "outputs": [
    {
     "name": "stdout",
     "output_type": "stream",
     "text": [
      "1\n",
      "condition met\n",
      "hey hi am outside loop\n"
     ]
    }
   ],
   "source": [
    "for i in range(1,100):\n",
    "    print(i)\n",
    "    if i == 1:\n",
    "        print(\"condition met\")\n",
    "        break\n",
    "        \n",
    "        \n",
    "print('hey hi am outside loop')"
   ]
  },
  {
   "cell_type": "code",
   "execution_count": null,
   "id": "dbc28ad4",
   "metadata": {},
   "outputs": [],
   "source": []
  },
  {
   "cell_type": "code",
   "execution_count": 12,
   "id": "ba8be7c9",
   "metadata": {},
   "outputs": [
    {
     "name": "stdout",
     "output_type": "stream",
     "text": [
      "1\n",
      "hi\n",
      "Hello\n"
     ]
    }
   ],
   "source": [
    "for i in range(1,10):\n",
    "    print(i) \n",
    "    print(\"hi\")\n",
    "    print(\"Hello\")\n",
    "    break  \n",
    "\n"
   ]
  },
  {
   "cell_type": "code",
   "execution_count": null,
   "id": "c3a9e534",
   "metadata": {},
   "outputs": [],
   "source": []
  },
  {
   "cell_type": "code",
   "execution_count": 13,
   "id": "36f95c45",
   "metadata": {},
   "outputs": [
    {
     "name": "stdout",
     "output_type": "stream",
     "text": [
      "outside loop\n"
     ]
    }
   ],
   "source": [
    "for i in range(1,100):\n",
    "    break\n",
    "    print(i)\n",
    "    print(\"snjkns\")\n",
    "    print(\"snkndld\")\n",
    "    \n",
    "    \n",
    "print(\"outside loop\")"
   ]
  },
  {
   "cell_type": "code",
   "execution_count": null,
   "id": "9d4be0fc",
   "metadata": {},
   "outputs": [],
   "source": []
  },
  {
   "cell_type": "code",
   "execution_count": null,
   "id": "f402202d",
   "metadata": {},
   "outputs": [],
   "source": [
    "# CONTINUE"
   ]
  },
  {
   "cell_type": "code",
   "execution_count": 14,
   "id": "0cf42a33",
   "metadata": {},
   "outputs": [
    {
     "name": "stdout",
     "output_type": "stream",
     "text": [
      " i = 1\n",
      " i * i = 1\n",
      " i = 2\n",
      " i * i = 4\n",
      " i = 4\n",
      " i * i = 16\n",
      " i = 6\n",
      " i * i = 36\n",
      " i = 7\n",
      " i * i = 49\n",
      " i = 8\n",
      " i * i = 64\n",
      " i = 9\n",
      " i * i = 81\n"
     ]
    }
   ],
   "source": [
    "for i in range(1,10):\n",
    "    if(i==3 or i==5):\n",
    "        continue\n",
    "    print(f' i = {i}')\n",
    "    print(f' i * i = {i**2}')    "
   ]
  },
  {
   "cell_type": "code",
   "execution_count": 15,
   "id": "2a082764",
   "metadata": {},
   "outputs": [
    {
     "name": "stdout",
     "output_type": "stream",
     "text": [
      "1 2 3 4 6 7 9 "
     ]
    }
   ],
   "source": [
    "for i in range(1,10):\n",
    "    if i==5 or i==8:\n",
    "        continue\n",
    "    print(i, end=\" \")"
   ]
  },
  {
   "cell_type": "code",
   "execution_count": 16,
   "id": "5dfcb049",
   "metadata": {},
   "outputs": [
    {
     "name": "stdout",
     "output_type": "stream",
     "text": [
      "0123456789"
     ]
    }
   ],
   "source": [
    "for i in range(10):\n",
    "    print(i,end=\"\")\n",
    "    continue\n",
    "    print(\"hello\")"
   ]
  },
  {
   "cell_type": "code",
   "execution_count": 17,
   "id": "3ec21d2b",
   "metadata": {},
   "outputs": [],
   "source": [
    "for i in range(10):\n",
    "    break\n"
   ]
  },
  {
   "cell_type": "code",
   "execution_count": null,
   "id": "c55b1e12",
   "metadata": {},
   "outputs": [],
   "source": [
    "for i in range(10):\n",
    "    continue\n",
    "    print(i)"
   ]
  },
  {
   "cell_type": "code",
   "execution_count": null,
   "id": "5c04db17",
   "metadata": {},
   "outputs": [],
   "source": [
    "for i in range(100):\n",
    "    \n",
    "    if i % 3 == 0 or i % 5 == 0:\n",
    "        continue\n",
    "    else:\n",
    "        print(i , end= \" \")"
   ]
  },
  {
   "cell_type": "code",
   "execution_count": null,
   "id": "5b5dc4c1",
   "metadata": {},
   "outputs": [],
   "source": []
  },
  {
   "cell_type": "code",
   "execution_count": null,
   "id": "30ed8476",
   "metadata": {},
   "outputs": [],
   "source": [
    "# For -  Loop\n",
    "- When we know the no of iteration in advance.\n",
    "- range() is a friend which handles start,step ,stop.\n",
    " - Have control on indexes.\n",
    "    \n",
    "    \n",
    "# While - loop\n",
    " - when we don't know iteration in advance..\n",
    " - we have to declare start , stop , step\n",
    " - if we don't increment/decrement step --> infinite loop."
   ]
  },
  {
   "cell_type": "code",
   "execution_count": null,
   "id": "063c2cb9",
   "metadata": {},
   "outputs": [],
   "source": []
  },
  {
   "cell_type": "markdown",
   "id": "e12d416e",
   "metadata": {},
   "source": [
    "#### Else with For/While\n",
    "\n",
    "The else keyword in a for loop specifies a block of code to be executed when the loop is finished:"
   ]
  },
  {
   "cell_type": "code",
   "execution_count": 18,
   "id": "1e86f6c1",
   "metadata": {},
   "outputs": [
    {
     "name": "stdout",
     "output_type": "stream",
     "text": [
      "else block\n"
     ]
    }
   ],
   "source": [
    "# Normal usage \n",
    "\n",
    "a =10\n",
    "b= 20\n",
    "if a>b:\n",
    "    print(\"snjknld\")\n",
    "else: #False\n",
    "    print(\"else block\")"
   ]
  },
  {
   "cell_type": "code",
   "execution_count": null,
   "id": "d4aebd11",
   "metadata": {},
   "outputs": [],
   "source": []
  },
  {
   "cell_type": "code",
   "execution_count": null,
   "id": "dac7e761",
   "metadata": {},
   "outputs": [],
   "source": [
    "#else block is executed when for loop is compeltely executed all iterations\n",
    "for i in \"Kumar\":\n",
    "    print(i ,end=\"\")\n",
    "    if i==\"z\":\n",
    "        break\n",
    "             \n",
    "else: #no break #when executed al the iterations\n",
    "    print(\" else block executed\")"
   ]
  },
  {
   "cell_type": "code",
   "execution_count": null,
   "id": "e256c134",
   "metadata": {},
   "outputs": [],
   "source": []
  },
  {
   "cell_type": "code",
   "execution_count": null,
   "id": "958d1d89",
   "metadata": {},
   "outputs": [],
   "source": [
    "for i in range(1,10):\n",
    "    print(i) \n",
    "    print(\"hi\")\n",
    "    print(\"Hello\")\n",
    "    break \n",
    "else:\n",
    "    print(\"am else block\")"
   ]
  },
  {
   "cell_type": "code",
   "execution_count": null,
   "id": "ff7e62cb",
   "metadata": {},
   "outputs": [],
   "source": []
  },
  {
   "cell_type": "code",
   "execution_count": null,
   "id": "ccb5764d",
   "metadata": {},
   "outputs": [],
   "source": []
  },
  {
   "cell_type": "code",
   "execution_count": null,
   "id": "dd5485c0",
   "metadata": {},
   "outputs": [],
   "source": [
    "for i in range(1,30): #stop>start\n",
    "    print(\"Hello\")"
   ]
  },
  {
   "cell_type": "code",
   "execution_count": null,
   "id": "681e02c1",
   "metadata": {},
   "outputs": [],
   "source": [
    "while True:\n",
    "    msg = input(\"enter the message: \")\n",
    "    print(msg)\n",
    "    if msg == \"exit\":\n",
    "        break"
   ]
  },
  {
   "cell_type": "code",
   "execution_count": 24,
   "id": "a36922df",
   "metadata": {},
   "outputs": [
    {
     "name": "stdout",
     "output_type": "stream",
     "text": [
      "[1, 9, 25]\n"
     ]
    }
   ],
   "source": [
    "# List Comprehension\n",
    "numbers = [1,2,3,4,5]\n",
    "evenFilter = [num**2 for num in numbers if num%2 == 1]\n",
    "print(evenFilter)"
   ]
  },
  {
   "cell_type": "code",
   "execution_count": 26,
   "id": "b5605295",
   "metadata": {},
   "outputs": [
    {
     "name": "stdout",
     "output_type": "stream",
     "text": [
      "{2: 4, 4: 16}\n"
     ]
    }
   ],
   "source": [
    "# Dictionary Comprehension\n",
    "num = {1,2,3,4,5}\n",
    "num_even = {f:f**2 for f in num if f%2== 0}\n",
    "print(num_even)"
   ]
  },
  {
   "cell_type": "code",
   "execution_count": 31,
   "id": "4c94de2d",
   "metadata": {},
   "outputs": [
    {
     "data": {
      "text/plain": [
       "{'k': 107, 'u': 117, 'm': 109, 'a': 97, 'r': 114}"
      ]
     },
     "execution_count": 31,
     "metadata": {},
     "output_type": "execute_result"
    }
   ],
   "source": [
    "{ch:ord(ch) for ch in \"kumar\"}"
   ]
  },
  {
   "cell_type": "code",
   "execution_count": null,
   "id": "13f1d504",
   "metadata": {},
   "outputs": [],
   "source": []
  }
 ],
 "metadata": {
  "kernelspec": {
   "display_name": "Python 3 (ipykernel)",
   "language": "python",
   "name": "python3"
  },
  "language_info": {
   "codemirror_mode": {
    "name": "ipython",
    "version": 3
   },
   "file_extension": ".py",
   "mimetype": "text/x-python",
   "name": "python",
   "nbconvert_exporter": "python",
   "pygments_lexer": "ipython3",
   "version": "3.10.9"
  }
 },
 "nbformat": 4,
 "nbformat_minor": 5
}
